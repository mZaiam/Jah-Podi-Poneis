{
  "cells": [
    {
      "cell_type": "markdown",
      "id": "b051848e-4bcb-4f82-b0ed-2653db22c9d8",
      "metadata": {
        "tags": [],
        "id": "b051848e-4bcb-4f82-b0ed-2653db22c9d8"
      },
      "source": [
        "\n",
        "\n",
        "# Machine Learning - Semestral Project\n",
        "## by Jah'Podi Pôneis"
      ]
    },
    {
      "cell_type": "markdown",
      "source": [
        "## Requirements"
      ],
      "metadata": {
        "id": "AVqwW-bihKkp"
      },
      "id": "AVqwW-bihKkp"
    },
    {
      "cell_type": "markdown",
      "source": [
        "These are the Python modules versions that we are going to be using in this notebook:"
      ],
      "metadata": {
        "id": "4WYcMm2qhzfZ"
      },
      "id": "4WYcMm2qhzfZ"
    },
    {
      "cell_type": "code",
      "source": [
        "pip install matminer==0.9.0"
      ],
      "metadata": {
        "id": "nf_lqHXoh80d"
      },
      "id": "nf_lqHXoh80d",
      "execution_count": null,
      "outputs": []
    },
    {
      "cell_type": "code",
      "source": [
        "pip install mendeleev==0.15.0"
      ],
      "metadata": {
        "id": "ByT5MBIRiHP9"
      },
      "id": "ByT5MBIRiHP9",
      "execution_count": null,
      "outputs": []
    },
    {
      "cell_type": "code",
      "source": [
        "pip install pymatgen==2023.12.18"
      ],
      "metadata": {
        "id": "UbT4ffAbiS5W"
      },
      "id": "UbT4ffAbiS5W",
      "execution_count": null,
      "outputs": []
    },
    {
      "cell_type": "code",
      "source": [
        "pip install scikit-learn==1.2.2"
      ],
      "metadata": {
        "id": "jK7cljRmfrn1"
      },
      "id": "jK7cljRmfrn1",
      "execution_count": null,
      "outputs": []
    },
    {
      "cell_type": "markdown",
      "id": "0bc3d9f8-94dc-4517-a1b5-b7b4e1fb1b50",
      "metadata": {
        "id": "0bc3d9f8-94dc-4517-a1b5-b7b4e1fb1b50"
      },
      "source": [
        "## Introduction"
      ]
    },
    {
      "cell_type": "markdown",
      "id": "63bbfcae-cb9e-4b11-bbed-b550c2fc43f1",
      "metadata": {
        "id": "63bbfcae-cb9e-4b11-bbed-b550c2fc43f1"
      },
      "source": [
        "The objective of this project is to use ML strategies to predict the band gap value of materials using 2 different sets of features:\n",
        "\n",
        "- Utilizing only the molar proportion of the materials as features\n",
        "- Utilizing the molar proportion multiplied by each element respective electronegativity value as features\n",
        "\n",
        "We wanted to know if adding the electronegativity value of the atoms that make up each material would give us a better prediction than just the molar proportion. This motivation is explained in more detail in the `README.\n",
        "\n",
        "In order to do this, we will use the `expt_gap` dataset from `matminer`, which contains the band gap value of several materials. However, we will need to make some modifications to the dataset, so that we have the 2 cases of features mentioned above.\n",
        "\n",
        "Next, we will train 4 models for each case: linear regression and random forest, both with and without reduction of dimensionality by PCA. At the end of this notebook, we present a discussion about the results obtained and analysis of the initial hypotheses.\n"
      ]
    },
    {
      "cell_type": "markdown",
      "id": "78aa3e83-ad7e-4c92-bb7e-22f9f435cef1",
      "metadata": {
        "id": "78aa3e83-ad7e-4c92-bb7e-22f9f435cef1"
      },
      "source": [
        "Here are some constants used during the entire notebook:"
      ]
    },
    {
      "cell_type": "code",
      "execution_count": 10,
      "id": "ac32a438-d314-4e66-a414-ef7a1c4322d2",
      "metadata": {
        "id": "ac32a438-d314-4e66-a414-ef7a1c4322d2"
      },
      "outputs": [],
      "source": [
        "TEST_SIZE = 0.1\n",
        "SEED = 7530\n",
        "FOLD_NUM = 10\n",
        "ITER_NUM = 20"
      ]
    },
    {
      "cell_type": "markdown",
      "id": "3d2d5b7d-3276-40a5-93a9-419707715278",
      "metadata": {
        "id": "3d2d5b7d-3276-40a5-93a9-419707715278"
      },
      "source": [
        "### Imports"
      ]
    },
    {
      "cell_type": "markdown",
      "id": "ee0a23be-b585-45ad-941b-d4f3c0b509ec",
      "metadata": {
        "id": "ee0a23be-b585-45ad-941b-d4f3c0b509ec"
      },
      "source": [
        "\n",
        " Here are all the imports that will be used throughout the notebook.\n"
      ]
    },
    {
      "cell_type": "code",
      "execution_count": 9,
      "id": "edc9e180-deeb-466c-9e7e-0238620edeb9",
      "metadata": {
        "id": "edc9e180-deeb-466c-9e7e-0238620edeb9"
      },
      "outputs": [],
      "source": [
        "import matplotlib.pyplot as plt\n",
        "\n",
        "import numpy as np\n",
        "\n",
        "from pymatgen.core import Composition\n",
        "\n",
        "from mendeleev import element\n",
        "\n",
        "from matminer.datasets import load_dataset\n",
        "\n",
        "from sklearn.model_selection import train_test_split\n",
        "from sklearn.metrics import mean_squared_error\n",
        "from sklearn.pipeline import make_pipeline\n",
        "from sklearn.preprocessing import MaxAbsScaler\n",
        "from sklearn.decomposition import PCA\n",
        "from sklearn.model_selection import RandomizedSearchCV\n",
        "from sklearn.model_selection import GridSearchCV\n",
        "from sklearn.model_selection import cross_val_score\n",
        "from sklearn.dummy import DummyRegressor\n",
        "from sklearn.linear_model import LinearRegression\n",
        "from sklearn.ensemble import RandomForestRegressor"
      ]
    },
    {
      "cell_type": "markdown",
      "id": "7e830ca8-e798-4b40-bcc4-6c9ad46a7fc7",
      "metadata": {
        "id": "7e830ca8-e798-4b40-bcc4-6c9ad46a7fc7"
      },
      "source": [
        "## Dataset Pre-Processing"
      ]
    },
    {
      "cell_type": "markdown",
      "id": "acdffd55-1cf7-470d-8f58-50dde96ad27c",
      "metadata": {
        "id": "acdffd55-1cf7-470d-8f58-50dde96ad27c"
      },
      "source": [
        "Standing out in scientific and materials engineering contexts, `matminer` is an essential Python library for working with data in the materials area, offering large datasets to be explored."
      ]
    },
    {
      "cell_type": "markdown",
      "id": "01606cb6-f4a1-4c44-9865-b526f9421be4",
      "metadata": {
        "id": "01606cb6-f4a1-4c44-9865-b526f9421be4"
      },
      "source": [
        "First of all, we'll remove the columns that will not be used from the `df` dataframe, and remove the rows with value `Nan`."
      ]
    },
    {
      "cell_type": "code",
      "execution_count": 11,
      "id": "75b08c84-cf10-401c-89ae-1339e44e104e",
      "metadata": {
        "colab": {
          "base_uri": "https://localhost:8080/",
          "height": 424
        },
        "id": "75b08c84-cf10-401c-89ae-1339e44e104e",
        "outputId": "90a10822-be1d-4d7b-caa1-4bcc191f879d"
      },
      "outputs": [
        {
          "output_type": "execute_result",
          "data": {
            "text/plain": [
              "           formula  gap expt\n",
              "0     Hg0.7Cd0.3Te      0.35\n",
              "1             CuBr      3.08\n",
              "2              LuP      1.30\n",
              "3         Cu3SbSe4      0.40\n",
              "4              ZnO      3.44\n",
              "...            ...       ...\n",
              "6349       Tm2MgTl      0.00\n",
              "6350        Nb5Ga4      0.00\n",
              "6351        Tb2Sb5      0.00\n",
              "6352       Lu2AlTc      0.00\n",
              "6353        CeZnPO      0.00\n",
              "\n",
              "[6354 rows x 2 columns]"
            ],
            "text/html": [
              "\n",
              "  <div id=\"df-948e0a5a-a4a3-49e2-a062-ad248241558a\" class=\"colab-df-container\">\n",
              "    <div>\n",
              "<style scoped>\n",
              "    .dataframe tbody tr th:only-of-type {\n",
              "        vertical-align: middle;\n",
              "    }\n",
              "\n",
              "    .dataframe tbody tr th {\n",
              "        vertical-align: top;\n",
              "    }\n",
              "\n",
              "    .dataframe thead th {\n",
              "        text-align: right;\n",
              "    }\n",
              "</style>\n",
              "<table border=\"1\" class=\"dataframe\">\n",
              "  <thead>\n",
              "    <tr style=\"text-align: right;\">\n",
              "      <th></th>\n",
              "      <th>formula</th>\n",
              "      <th>gap expt</th>\n",
              "    </tr>\n",
              "  </thead>\n",
              "  <tbody>\n",
              "    <tr>\n",
              "      <th>0</th>\n",
              "      <td>Hg0.7Cd0.3Te</td>\n",
              "      <td>0.35</td>\n",
              "    </tr>\n",
              "    <tr>\n",
              "      <th>1</th>\n",
              "      <td>CuBr</td>\n",
              "      <td>3.08</td>\n",
              "    </tr>\n",
              "    <tr>\n",
              "      <th>2</th>\n",
              "      <td>LuP</td>\n",
              "      <td>1.30</td>\n",
              "    </tr>\n",
              "    <tr>\n",
              "      <th>3</th>\n",
              "      <td>Cu3SbSe4</td>\n",
              "      <td>0.40</td>\n",
              "    </tr>\n",
              "    <tr>\n",
              "      <th>4</th>\n",
              "      <td>ZnO</td>\n",
              "      <td>3.44</td>\n",
              "    </tr>\n",
              "    <tr>\n",
              "      <th>...</th>\n",
              "      <td>...</td>\n",
              "      <td>...</td>\n",
              "    </tr>\n",
              "    <tr>\n",
              "      <th>6349</th>\n",
              "      <td>Tm2MgTl</td>\n",
              "      <td>0.00</td>\n",
              "    </tr>\n",
              "    <tr>\n",
              "      <th>6350</th>\n",
              "      <td>Nb5Ga4</td>\n",
              "      <td>0.00</td>\n",
              "    </tr>\n",
              "    <tr>\n",
              "      <th>6351</th>\n",
              "      <td>Tb2Sb5</td>\n",
              "      <td>0.00</td>\n",
              "    </tr>\n",
              "    <tr>\n",
              "      <th>6352</th>\n",
              "      <td>Lu2AlTc</td>\n",
              "      <td>0.00</td>\n",
              "    </tr>\n",
              "    <tr>\n",
              "      <th>6353</th>\n",
              "      <td>CeZnPO</td>\n",
              "      <td>0.00</td>\n",
              "    </tr>\n",
              "  </tbody>\n",
              "</table>\n",
              "<p>6354 rows × 2 columns</p>\n",
              "</div>\n",
              "    <div class=\"colab-df-buttons\">\n",
              "\n",
              "  <div class=\"colab-df-container\">\n",
              "    <button class=\"colab-df-convert\" onclick=\"convertToInteractive('df-948e0a5a-a4a3-49e2-a062-ad248241558a')\"\n",
              "            title=\"Convert this dataframe to an interactive table.\"\n",
              "            style=\"display:none;\">\n",
              "\n",
              "  <svg xmlns=\"http://www.w3.org/2000/svg\" height=\"24px\" viewBox=\"0 -960 960 960\">\n",
              "    <path d=\"M120-120v-720h720v720H120Zm60-500h600v-160H180v160Zm220 220h160v-160H400v160Zm0 220h160v-160H400v160ZM180-400h160v-160H180v160Zm440 0h160v-160H620v160ZM180-180h160v-160H180v160Zm440 0h160v-160H620v160Z\"/>\n",
              "  </svg>\n",
              "    </button>\n",
              "\n",
              "  <style>\n",
              "    .colab-df-container {\n",
              "      display:flex;\n",
              "      gap: 12px;\n",
              "    }\n",
              "\n",
              "    .colab-df-convert {\n",
              "      background-color: #E8F0FE;\n",
              "      border: none;\n",
              "      border-radius: 50%;\n",
              "      cursor: pointer;\n",
              "      display: none;\n",
              "      fill: #1967D2;\n",
              "      height: 32px;\n",
              "      padding: 0 0 0 0;\n",
              "      width: 32px;\n",
              "    }\n",
              "\n",
              "    .colab-df-convert:hover {\n",
              "      background-color: #E2EBFA;\n",
              "      box-shadow: 0px 1px 2px rgba(60, 64, 67, 0.3), 0px 1px 3px 1px rgba(60, 64, 67, 0.15);\n",
              "      fill: #174EA6;\n",
              "    }\n",
              "\n",
              "    .colab-df-buttons div {\n",
              "      margin-bottom: 4px;\n",
              "    }\n",
              "\n",
              "    [theme=dark] .colab-df-convert {\n",
              "      background-color: #3B4455;\n",
              "      fill: #D2E3FC;\n",
              "    }\n",
              "\n",
              "    [theme=dark] .colab-df-convert:hover {\n",
              "      background-color: #434B5C;\n",
              "      box-shadow: 0px 1px 3px 1px rgba(0, 0, 0, 0.15);\n",
              "      filter: drop-shadow(0px 1px 2px rgba(0, 0, 0, 0.3));\n",
              "      fill: #FFFFFF;\n",
              "    }\n",
              "  </style>\n",
              "\n",
              "    <script>\n",
              "      const buttonEl =\n",
              "        document.querySelector('#df-948e0a5a-a4a3-49e2-a062-ad248241558a button.colab-df-convert');\n",
              "      buttonEl.style.display =\n",
              "        google.colab.kernel.accessAllowed ? 'block' : 'none';\n",
              "\n",
              "      async function convertToInteractive(key) {\n",
              "        const element = document.querySelector('#df-948e0a5a-a4a3-49e2-a062-ad248241558a');\n",
              "        const dataTable =\n",
              "          await google.colab.kernel.invokeFunction('convertToInteractive',\n",
              "                                                    [key], {});\n",
              "        if (!dataTable) return;\n",
              "\n",
              "        const docLinkHtml = 'Like what you see? Visit the ' +\n",
              "          '<a target=\"_blank\" href=https://colab.research.google.com/notebooks/data_table.ipynb>data table notebook</a>'\n",
              "          + ' to learn more about interactive tables.';\n",
              "        element.innerHTML = '';\n",
              "        dataTable['output_type'] = 'display_data';\n",
              "        await google.colab.output.renderOutput(dataTable, element);\n",
              "        const docLink = document.createElement('div');\n",
              "        docLink.innerHTML = docLinkHtml;\n",
              "        element.appendChild(docLink);\n",
              "      }\n",
              "    </script>\n",
              "  </div>\n",
              "\n",
              "\n",
              "<div id=\"df-8f0c2f18-c1ee-4f5f-a3c3-a4a9a3174ba0\">\n",
              "  <button class=\"colab-df-quickchart\" onclick=\"quickchart('df-8f0c2f18-c1ee-4f5f-a3c3-a4a9a3174ba0')\"\n",
              "            title=\"Suggest charts\"\n",
              "            style=\"display:none;\">\n",
              "\n",
              "<svg xmlns=\"http://www.w3.org/2000/svg\" height=\"24px\"viewBox=\"0 0 24 24\"\n",
              "     width=\"24px\">\n",
              "    <g>\n",
              "        <path d=\"M19 3H5c-1.1 0-2 .9-2 2v14c0 1.1.9 2 2 2h14c1.1 0 2-.9 2-2V5c0-1.1-.9-2-2-2zM9 17H7v-7h2v7zm4 0h-2V7h2v10zm4 0h-2v-4h2v4z\"/>\n",
              "    </g>\n",
              "</svg>\n",
              "  </button>\n",
              "\n",
              "<style>\n",
              "  .colab-df-quickchart {\n",
              "      --bg-color: #E8F0FE;\n",
              "      --fill-color: #1967D2;\n",
              "      --hover-bg-color: #E2EBFA;\n",
              "      --hover-fill-color: #174EA6;\n",
              "      --disabled-fill-color: #AAA;\n",
              "      --disabled-bg-color: #DDD;\n",
              "  }\n",
              "\n",
              "  [theme=dark] .colab-df-quickchart {\n",
              "      --bg-color: #3B4455;\n",
              "      --fill-color: #D2E3FC;\n",
              "      --hover-bg-color: #434B5C;\n",
              "      --hover-fill-color: #FFFFFF;\n",
              "      --disabled-bg-color: #3B4455;\n",
              "      --disabled-fill-color: #666;\n",
              "  }\n",
              "\n",
              "  .colab-df-quickchart {\n",
              "    background-color: var(--bg-color);\n",
              "    border: none;\n",
              "    border-radius: 50%;\n",
              "    cursor: pointer;\n",
              "    display: none;\n",
              "    fill: var(--fill-color);\n",
              "    height: 32px;\n",
              "    padding: 0;\n",
              "    width: 32px;\n",
              "  }\n",
              "\n",
              "  .colab-df-quickchart:hover {\n",
              "    background-color: var(--hover-bg-color);\n",
              "    box-shadow: 0 1px 2px rgba(60, 64, 67, 0.3), 0 1px 3px 1px rgba(60, 64, 67, 0.15);\n",
              "    fill: var(--button-hover-fill-color);\n",
              "  }\n",
              "\n",
              "  .colab-df-quickchart-complete:disabled,\n",
              "  .colab-df-quickchart-complete:disabled:hover {\n",
              "    background-color: var(--disabled-bg-color);\n",
              "    fill: var(--disabled-fill-color);\n",
              "    box-shadow: none;\n",
              "  }\n",
              "\n",
              "  .colab-df-spinner {\n",
              "    border: 2px solid var(--fill-color);\n",
              "    border-color: transparent;\n",
              "    border-bottom-color: var(--fill-color);\n",
              "    animation:\n",
              "      spin 1s steps(1) infinite;\n",
              "  }\n",
              "\n",
              "  @keyframes spin {\n",
              "    0% {\n",
              "      border-color: transparent;\n",
              "      border-bottom-color: var(--fill-color);\n",
              "      border-left-color: var(--fill-color);\n",
              "    }\n",
              "    20% {\n",
              "      border-color: transparent;\n",
              "      border-left-color: var(--fill-color);\n",
              "      border-top-color: var(--fill-color);\n",
              "    }\n",
              "    30% {\n",
              "      border-color: transparent;\n",
              "      border-left-color: var(--fill-color);\n",
              "      border-top-color: var(--fill-color);\n",
              "      border-right-color: var(--fill-color);\n",
              "    }\n",
              "    40% {\n",
              "      border-color: transparent;\n",
              "      border-right-color: var(--fill-color);\n",
              "      border-top-color: var(--fill-color);\n",
              "    }\n",
              "    60% {\n",
              "      border-color: transparent;\n",
              "      border-right-color: var(--fill-color);\n",
              "    }\n",
              "    80% {\n",
              "      border-color: transparent;\n",
              "      border-right-color: var(--fill-color);\n",
              "      border-bottom-color: var(--fill-color);\n",
              "    }\n",
              "    90% {\n",
              "      border-color: transparent;\n",
              "      border-bottom-color: var(--fill-color);\n",
              "    }\n",
              "  }\n",
              "</style>\n",
              "\n",
              "  <script>\n",
              "    async function quickchart(key) {\n",
              "      const quickchartButtonEl =\n",
              "        document.querySelector('#' + key + ' button');\n",
              "      quickchartButtonEl.disabled = true;  // To prevent multiple clicks.\n",
              "      quickchartButtonEl.classList.add('colab-df-spinner');\n",
              "      try {\n",
              "        const charts = await google.colab.kernel.invokeFunction(\n",
              "            'suggestCharts', [key], {});\n",
              "      } catch (error) {\n",
              "        console.error('Error during call to suggestCharts:', error);\n",
              "      }\n",
              "      quickchartButtonEl.classList.remove('colab-df-spinner');\n",
              "      quickchartButtonEl.classList.add('colab-df-quickchart-complete');\n",
              "    }\n",
              "    (() => {\n",
              "      let quickchartButtonEl =\n",
              "        document.querySelector('#df-8f0c2f18-c1ee-4f5f-a3c3-a4a9a3174ba0 button');\n",
              "      quickchartButtonEl.style.display =\n",
              "        google.colab.kernel.accessAllowed ? 'block' : 'none';\n",
              "    })();\n",
              "  </script>\n",
              "</div>\n",
              "\n",
              "  <div id=\"id_8fba61ce-4a87-4aac-bd3c-55edd67551ef\">\n",
              "    <style>\n",
              "      .colab-df-generate {\n",
              "        background-color: #E8F0FE;\n",
              "        border: none;\n",
              "        border-radius: 50%;\n",
              "        cursor: pointer;\n",
              "        display: none;\n",
              "        fill: #1967D2;\n",
              "        height: 32px;\n",
              "        padding: 0 0 0 0;\n",
              "        width: 32px;\n",
              "      }\n",
              "\n",
              "      .colab-df-generate:hover {\n",
              "        background-color: #E2EBFA;\n",
              "        box-shadow: 0px 1px 2px rgba(60, 64, 67, 0.3), 0px 1px 3px 1px rgba(60, 64, 67, 0.15);\n",
              "        fill: #174EA6;\n",
              "      }\n",
              "\n",
              "      [theme=dark] .colab-df-generate {\n",
              "        background-color: #3B4455;\n",
              "        fill: #D2E3FC;\n",
              "      }\n",
              "\n",
              "      [theme=dark] .colab-df-generate:hover {\n",
              "        background-color: #434B5C;\n",
              "        box-shadow: 0px 1px 3px 1px rgba(0, 0, 0, 0.15);\n",
              "        filter: drop-shadow(0px 1px 2px rgba(0, 0, 0, 0.3));\n",
              "        fill: #FFFFFF;\n",
              "      }\n",
              "    </style>\n",
              "    <button class=\"colab-df-generate\" onclick=\"generateWithVariable('df')\"\n",
              "            title=\"Generate code using this dataframe.\"\n",
              "            style=\"display:none;\">\n",
              "\n",
              "  <svg xmlns=\"http://www.w3.org/2000/svg\" height=\"24px\"viewBox=\"0 0 24 24\"\n",
              "       width=\"24px\">\n",
              "    <path d=\"M7,19H8.4L18.45,9,17,7.55,7,17.6ZM5,21V16.75L18.45,3.32a2,2,0,0,1,2.83,0l1.4,1.43a1.91,1.91,0,0,1,.58,1.4,1.91,1.91,0,0,1-.58,1.4L9.25,21ZM18.45,9,17,7.55Zm-12,3A5.31,5.31,0,0,0,4.9,8.1,5.31,5.31,0,0,0,1,6.5,5.31,5.31,0,0,0,4.9,4.9,5.31,5.31,0,0,0,6.5,1,5.31,5.31,0,0,0,8.1,4.9,5.31,5.31,0,0,0,12,6.5,5.46,5.46,0,0,0,6.5,12Z\"/>\n",
              "  </svg>\n",
              "    </button>\n",
              "    <script>\n",
              "      (() => {\n",
              "      const buttonEl =\n",
              "        document.querySelector('#id_8fba61ce-4a87-4aac-bd3c-55edd67551ef button.colab-df-generate');\n",
              "      buttonEl.style.display =\n",
              "        google.colab.kernel.accessAllowed ? 'block' : 'none';\n",
              "\n",
              "      buttonEl.onclick = () => {\n",
              "        google.colab.notebook.generateWithVariable('df');\n",
              "      }\n",
              "      })();\n",
              "    </script>\n",
              "  </div>\n",
              "\n",
              "    </div>\n",
              "  </div>\n"
            ]
          },
          "metadata": {},
          "execution_count": 11
        }
      ],
      "source": [
        "df = load_dataset(\"expt_gap\")\n",
        "\n",
        "df = df.dropna()\n",
        "\n",
        "df"
      ]
    },
    {
      "cell_type": "markdown",
      "id": "6ccb4e3e-3763-473b-b3c3-26268bfba6e5",
      "metadata": {
        "id": "6ccb4e3e-3763-473b-b3c3-26268bfba6e5"
      },
      "source": [
        "To train our models, we'll need to extract the molar proportions of the strings in the dataset. To perform this parsing, we'll use the function `Composition` from `pymatgen.core`, in order to transform the strings into dictionaries, in which the keys are going to be the elements and the values are going to be the molar proportion."
      ]
    },
    {
      "cell_type": "markdown",
      "id": "7a564a6d-351c-4904-9a7e-847999ca8dcd",
      "metadata": {
        "id": "7a564a6d-351c-4904-9a7e-847999ca8dcd"
      },
      "source": [
        "Utilizando a função `Composition` do módulo `pymatgen.core`, vamos criar uma lista de dicicionários, `lista_dict`, em que cada chave desses dicionários são os elementos que compõem o material e seus valores são a respectiva proporção molar."
      ]
    },
    {
      "cell_type": "code",
      "execution_count": 12,
      "id": "e65d0afb-ea4a-4120-8474-9d8158bd6a7b",
      "metadata": {
        "id": "e65d0afb-ea4a-4120-8474-9d8158bd6a7b"
      },
      "outputs": [],
      "source": [
        "dict_list = []\n",
        "\n",
        "for string in df['formula']:\n",
        "    composition = Composition(string)\n",
        "    composition_dict = composition.as_dict()\n",
        "    dict_list.append(composition_dict)"
      ]
    },
    {
      "cell_type": "markdown",
      "id": "9283948a-3e63-47ee-a3d5-b753edb0f424",
      "metadata": {
        "id": "9283948a-3e63-47ee-a3d5-b753edb0f424"
      },
      "source": [
        "Visualizing this list:"
      ]
    },
    {
      "cell_type": "code",
      "execution_count": 14,
      "id": "723058aa-6298-4d11-986f-22d1dabced79",
      "metadata": {
        "colab": {
          "base_uri": "https://localhost:8080/"
        },
        "id": "723058aa-6298-4d11-986f-22d1dabced79",
        "outputId": "813a9d9f-63dd-4378-bffd-b69c2abfe9f2"
      },
      "outputs": [
        {
          "output_type": "stream",
          "name": "stdout",
          "text": [
            "[{'Hg': 0.7, 'Cd': 0.3, 'Te': 1.0}, {'Cu': 1.0, 'Br': 1.0}, {'Lu': 1.0, 'P': 1.0}]\n"
          ]
        }
      ],
      "source": [
        "print(dict_list[0:3])"
      ]
    },
    {
      "cell_type": "markdown",
      "id": "6ff74502-3333-43c3-8dbd-1efbb38bfe9a",
      "metadata": {
        "id": "6ff74502-3333-43c3-8dbd-1efbb38bfe9a"
      },
      "source": [
        "Now, we will create a column for each chemical element that was used in the materials in the dataset, initially containing only values equal to zero"
      ]
    },
    {
      "cell_type": "code",
      "execution_count": 15,
      "id": "e2dfeacd-d7b4-470f-a389-38d6907d9023",
      "metadata": {
        "id": "e2dfeacd-d7b4-470f-a389-38d6907d9023"
      },
      "outputs": [],
      "source": [
        "for dictionary in dict_list:\n",
        "    for key in dictionary:\n",
        "        df[key] = np.zeros(len(dict_list))"
      ]
    },
    {
      "cell_type": "markdown",
      "id": "dca72c17-100d-4ae7-afee-08697ac63211",
      "metadata": {
        "id": "dca72c17-100d-4ae7-afee-08697ac63211"
      },
      "source": [
        "Following, we will add the molar proportion values to the new columns created in `df`. To avoid overwriting problems, we will use the `df.loc` method of `pandas`, which avoids this problem."
      ]
    },
    {
      "cell_type": "code",
      "execution_count": 16,
      "id": "b7994637-3ee5-4686-b3b9-983452c768b6",
      "metadata": {
        "colab": {
          "base_uri": "https://localhost:8080/",
          "height": 424
        },
        "id": "b7994637-3ee5-4686-b3b9-983452c768b6",
        "outputId": "272e440e-3195-437f-896f-287a4a8b3b63"
      },
      "outputs": [
        {
          "output_type": "execute_result",
          "data": {
            "text/plain": [
              "           formula  gap expt   Hg   Cd   Te   Cu   Br   Lu    P   Sb  ...  \\\n",
              "0     Hg0.7Cd0.3Te      0.35  0.7  0.3  1.0  0.0  0.0  0.0  0.0  0.0  ...   \n",
              "1             CuBr      3.08  0.0  0.0  0.0  1.0  1.0  0.0  0.0  0.0  ...   \n",
              "2              LuP      1.30  0.0  0.0  0.0  0.0  0.0  1.0  1.0  0.0  ...   \n",
              "3         Cu3SbSe4      0.40  0.0  0.0  0.0  3.0  0.0  0.0  0.0  1.0  ...   \n",
              "4              ZnO      3.44  0.0  0.0  0.0  0.0  0.0  0.0  0.0  0.0  ...   \n",
              "...            ...       ...  ...  ...  ...  ...  ...  ...  ...  ...  ...   \n",
              "6349       Tm2MgTl      0.00  0.0  0.0  0.0  0.0  0.0  0.0  0.0  0.0  ...   \n",
              "6350        Nb5Ga4      0.00  0.0  0.0  0.0  0.0  0.0  0.0  0.0  0.0  ...   \n",
              "6351        Tb2Sb5      0.00  0.0  0.0  0.0  0.0  0.0  0.0  0.0  5.0  ...   \n",
              "6352       Lu2AlTc      0.00  0.0  0.0  0.0  0.0  0.0  2.0  0.0  0.0  ...   \n",
              "6353        CeZnPO      0.00  0.0  0.0  0.0  0.0  0.0  0.0  1.0  0.0  ...   \n",
              "\n",
              "       Co   Nd   Ho    C   Rh   Ni   Tc   Re   Pm   Xe  \n",
              "0     0.0  0.0  0.0  0.0  0.0  0.0  0.0  0.0  0.0  0.0  \n",
              "1     0.0  0.0  0.0  0.0  0.0  0.0  0.0  0.0  0.0  0.0  \n",
              "2     0.0  0.0  0.0  0.0  0.0  0.0  0.0  0.0  0.0  0.0  \n",
              "3     0.0  0.0  0.0  0.0  0.0  0.0  0.0  0.0  0.0  0.0  \n",
              "4     0.0  0.0  0.0  0.0  0.0  0.0  0.0  0.0  0.0  0.0  \n",
              "...   ...  ...  ...  ...  ...  ...  ...  ...  ...  ...  \n",
              "6349  0.0  0.0  0.0  0.0  0.0  0.0  0.0  0.0  0.0  0.0  \n",
              "6350  0.0  0.0  0.0  0.0  0.0  0.0  0.0  0.0  0.0  0.0  \n",
              "6351  0.0  0.0  0.0  0.0  0.0  0.0  0.0  0.0  0.0  0.0  \n",
              "6352  0.0  0.0  0.0  0.0  0.0  0.0  1.0  0.0  0.0  0.0  \n",
              "6353  0.0  0.0  0.0  0.0  0.0  0.0  0.0  0.0  0.0  0.0  \n",
              "\n",
              "[6354 rows x 83 columns]"
            ],
            "text/html": [
              "\n",
              "  <div id=\"df-86b26650-e8c2-4654-9e2b-156cac3a6ba2\" class=\"colab-df-container\">\n",
              "    <div>\n",
              "<style scoped>\n",
              "    .dataframe tbody tr th:only-of-type {\n",
              "        vertical-align: middle;\n",
              "    }\n",
              "\n",
              "    .dataframe tbody tr th {\n",
              "        vertical-align: top;\n",
              "    }\n",
              "\n",
              "    .dataframe thead th {\n",
              "        text-align: right;\n",
              "    }\n",
              "</style>\n",
              "<table border=\"1\" class=\"dataframe\">\n",
              "  <thead>\n",
              "    <tr style=\"text-align: right;\">\n",
              "      <th></th>\n",
              "      <th>formula</th>\n",
              "      <th>gap expt</th>\n",
              "      <th>Hg</th>\n",
              "      <th>Cd</th>\n",
              "      <th>Te</th>\n",
              "      <th>Cu</th>\n",
              "      <th>Br</th>\n",
              "      <th>Lu</th>\n",
              "      <th>P</th>\n",
              "      <th>Sb</th>\n",
              "      <th>...</th>\n",
              "      <th>Co</th>\n",
              "      <th>Nd</th>\n",
              "      <th>Ho</th>\n",
              "      <th>C</th>\n",
              "      <th>Rh</th>\n",
              "      <th>Ni</th>\n",
              "      <th>Tc</th>\n",
              "      <th>Re</th>\n",
              "      <th>Pm</th>\n",
              "      <th>Xe</th>\n",
              "    </tr>\n",
              "  </thead>\n",
              "  <tbody>\n",
              "    <tr>\n",
              "      <th>0</th>\n",
              "      <td>Hg0.7Cd0.3Te</td>\n",
              "      <td>0.35</td>\n",
              "      <td>0.7</td>\n",
              "      <td>0.3</td>\n",
              "      <td>1.0</td>\n",
              "      <td>0.0</td>\n",
              "      <td>0.0</td>\n",
              "      <td>0.0</td>\n",
              "      <td>0.0</td>\n",
              "      <td>0.0</td>\n",
              "      <td>...</td>\n",
              "      <td>0.0</td>\n",
              "      <td>0.0</td>\n",
              "      <td>0.0</td>\n",
              "      <td>0.0</td>\n",
              "      <td>0.0</td>\n",
              "      <td>0.0</td>\n",
              "      <td>0.0</td>\n",
              "      <td>0.0</td>\n",
              "      <td>0.0</td>\n",
              "      <td>0.0</td>\n",
              "    </tr>\n",
              "    <tr>\n",
              "      <th>1</th>\n",
              "      <td>CuBr</td>\n",
              "      <td>3.08</td>\n",
              "      <td>0.0</td>\n",
              "      <td>0.0</td>\n",
              "      <td>0.0</td>\n",
              "      <td>1.0</td>\n",
              "      <td>1.0</td>\n",
              "      <td>0.0</td>\n",
              "      <td>0.0</td>\n",
              "      <td>0.0</td>\n",
              "      <td>...</td>\n",
              "      <td>0.0</td>\n",
              "      <td>0.0</td>\n",
              "      <td>0.0</td>\n",
              "      <td>0.0</td>\n",
              "      <td>0.0</td>\n",
              "      <td>0.0</td>\n",
              "      <td>0.0</td>\n",
              "      <td>0.0</td>\n",
              "      <td>0.0</td>\n",
              "      <td>0.0</td>\n",
              "    </tr>\n",
              "    <tr>\n",
              "      <th>2</th>\n",
              "      <td>LuP</td>\n",
              "      <td>1.30</td>\n",
              "      <td>0.0</td>\n",
              "      <td>0.0</td>\n",
              "      <td>0.0</td>\n",
              "      <td>0.0</td>\n",
              "      <td>0.0</td>\n",
              "      <td>1.0</td>\n",
              "      <td>1.0</td>\n",
              "      <td>0.0</td>\n",
              "      <td>...</td>\n",
              "      <td>0.0</td>\n",
              "      <td>0.0</td>\n",
              "      <td>0.0</td>\n",
              "      <td>0.0</td>\n",
              "      <td>0.0</td>\n",
              "      <td>0.0</td>\n",
              "      <td>0.0</td>\n",
              "      <td>0.0</td>\n",
              "      <td>0.0</td>\n",
              "      <td>0.0</td>\n",
              "    </tr>\n",
              "    <tr>\n",
              "      <th>3</th>\n",
              "      <td>Cu3SbSe4</td>\n",
              "      <td>0.40</td>\n",
              "      <td>0.0</td>\n",
              "      <td>0.0</td>\n",
              "      <td>0.0</td>\n",
              "      <td>3.0</td>\n",
              "      <td>0.0</td>\n",
              "      <td>0.0</td>\n",
              "      <td>0.0</td>\n",
              "      <td>1.0</td>\n",
              "      <td>...</td>\n",
              "      <td>0.0</td>\n",
              "      <td>0.0</td>\n",
              "      <td>0.0</td>\n",
              "      <td>0.0</td>\n",
              "      <td>0.0</td>\n",
              "      <td>0.0</td>\n",
              "      <td>0.0</td>\n",
              "      <td>0.0</td>\n",
              "      <td>0.0</td>\n",
              "      <td>0.0</td>\n",
              "    </tr>\n",
              "    <tr>\n",
              "      <th>4</th>\n",
              "      <td>ZnO</td>\n",
              "      <td>3.44</td>\n",
              "      <td>0.0</td>\n",
              "      <td>0.0</td>\n",
              "      <td>0.0</td>\n",
              "      <td>0.0</td>\n",
              "      <td>0.0</td>\n",
              "      <td>0.0</td>\n",
              "      <td>0.0</td>\n",
              "      <td>0.0</td>\n",
              "      <td>...</td>\n",
              "      <td>0.0</td>\n",
              "      <td>0.0</td>\n",
              "      <td>0.0</td>\n",
              "      <td>0.0</td>\n",
              "      <td>0.0</td>\n",
              "      <td>0.0</td>\n",
              "      <td>0.0</td>\n",
              "      <td>0.0</td>\n",
              "      <td>0.0</td>\n",
              "      <td>0.0</td>\n",
              "    </tr>\n",
              "    <tr>\n",
              "      <th>...</th>\n",
              "      <td>...</td>\n",
              "      <td>...</td>\n",
              "      <td>...</td>\n",
              "      <td>...</td>\n",
              "      <td>...</td>\n",
              "      <td>...</td>\n",
              "      <td>...</td>\n",
              "      <td>...</td>\n",
              "      <td>...</td>\n",
              "      <td>...</td>\n",
              "      <td>...</td>\n",
              "      <td>...</td>\n",
              "      <td>...</td>\n",
              "      <td>...</td>\n",
              "      <td>...</td>\n",
              "      <td>...</td>\n",
              "      <td>...</td>\n",
              "      <td>...</td>\n",
              "      <td>...</td>\n",
              "      <td>...</td>\n",
              "      <td>...</td>\n",
              "    </tr>\n",
              "    <tr>\n",
              "      <th>6349</th>\n",
              "      <td>Tm2MgTl</td>\n",
              "      <td>0.00</td>\n",
              "      <td>0.0</td>\n",
              "      <td>0.0</td>\n",
              "      <td>0.0</td>\n",
              "      <td>0.0</td>\n",
              "      <td>0.0</td>\n",
              "      <td>0.0</td>\n",
              "      <td>0.0</td>\n",
              "      <td>0.0</td>\n",
              "      <td>...</td>\n",
              "      <td>0.0</td>\n",
              "      <td>0.0</td>\n",
              "      <td>0.0</td>\n",
              "      <td>0.0</td>\n",
              "      <td>0.0</td>\n",
              "      <td>0.0</td>\n",
              "      <td>0.0</td>\n",
              "      <td>0.0</td>\n",
              "      <td>0.0</td>\n",
              "      <td>0.0</td>\n",
              "    </tr>\n",
              "    <tr>\n",
              "      <th>6350</th>\n",
              "      <td>Nb5Ga4</td>\n",
              "      <td>0.00</td>\n",
              "      <td>0.0</td>\n",
              "      <td>0.0</td>\n",
              "      <td>0.0</td>\n",
              "      <td>0.0</td>\n",
              "      <td>0.0</td>\n",
              "      <td>0.0</td>\n",
              "      <td>0.0</td>\n",
              "      <td>0.0</td>\n",
              "      <td>...</td>\n",
              "      <td>0.0</td>\n",
              "      <td>0.0</td>\n",
              "      <td>0.0</td>\n",
              "      <td>0.0</td>\n",
              "      <td>0.0</td>\n",
              "      <td>0.0</td>\n",
              "      <td>0.0</td>\n",
              "      <td>0.0</td>\n",
              "      <td>0.0</td>\n",
              "      <td>0.0</td>\n",
              "    </tr>\n",
              "    <tr>\n",
              "      <th>6351</th>\n",
              "      <td>Tb2Sb5</td>\n",
              "      <td>0.00</td>\n",
              "      <td>0.0</td>\n",
              "      <td>0.0</td>\n",
              "      <td>0.0</td>\n",
              "      <td>0.0</td>\n",
              "      <td>0.0</td>\n",
              "      <td>0.0</td>\n",
              "      <td>0.0</td>\n",
              "      <td>5.0</td>\n",
              "      <td>...</td>\n",
              "      <td>0.0</td>\n",
              "      <td>0.0</td>\n",
              "      <td>0.0</td>\n",
              "      <td>0.0</td>\n",
              "      <td>0.0</td>\n",
              "      <td>0.0</td>\n",
              "      <td>0.0</td>\n",
              "      <td>0.0</td>\n",
              "      <td>0.0</td>\n",
              "      <td>0.0</td>\n",
              "    </tr>\n",
              "    <tr>\n",
              "      <th>6352</th>\n",
              "      <td>Lu2AlTc</td>\n",
              "      <td>0.00</td>\n",
              "      <td>0.0</td>\n",
              "      <td>0.0</td>\n",
              "      <td>0.0</td>\n",
              "      <td>0.0</td>\n",
              "      <td>0.0</td>\n",
              "      <td>2.0</td>\n",
              "      <td>0.0</td>\n",
              "      <td>0.0</td>\n",
              "      <td>...</td>\n",
              "      <td>0.0</td>\n",
              "      <td>0.0</td>\n",
              "      <td>0.0</td>\n",
              "      <td>0.0</td>\n",
              "      <td>0.0</td>\n",
              "      <td>0.0</td>\n",
              "      <td>1.0</td>\n",
              "      <td>0.0</td>\n",
              "      <td>0.0</td>\n",
              "      <td>0.0</td>\n",
              "    </tr>\n",
              "    <tr>\n",
              "      <th>6353</th>\n",
              "      <td>CeZnPO</td>\n",
              "      <td>0.00</td>\n",
              "      <td>0.0</td>\n",
              "      <td>0.0</td>\n",
              "      <td>0.0</td>\n",
              "      <td>0.0</td>\n",
              "      <td>0.0</td>\n",
              "      <td>0.0</td>\n",
              "      <td>1.0</td>\n",
              "      <td>0.0</td>\n",
              "      <td>...</td>\n",
              "      <td>0.0</td>\n",
              "      <td>0.0</td>\n",
              "      <td>0.0</td>\n",
              "      <td>0.0</td>\n",
              "      <td>0.0</td>\n",
              "      <td>0.0</td>\n",
              "      <td>0.0</td>\n",
              "      <td>0.0</td>\n",
              "      <td>0.0</td>\n",
              "      <td>0.0</td>\n",
              "    </tr>\n",
              "  </tbody>\n",
              "</table>\n",
              "<p>6354 rows × 83 columns</p>\n",
              "</div>\n",
              "    <div class=\"colab-df-buttons\">\n",
              "\n",
              "  <div class=\"colab-df-container\">\n",
              "    <button class=\"colab-df-convert\" onclick=\"convertToInteractive('df-86b26650-e8c2-4654-9e2b-156cac3a6ba2')\"\n",
              "            title=\"Convert this dataframe to an interactive table.\"\n",
              "            style=\"display:none;\">\n",
              "\n",
              "  <svg xmlns=\"http://www.w3.org/2000/svg\" height=\"24px\" viewBox=\"0 -960 960 960\">\n",
              "    <path d=\"M120-120v-720h720v720H120Zm60-500h600v-160H180v160Zm220 220h160v-160H400v160Zm0 220h160v-160H400v160ZM180-400h160v-160H180v160Zm440 0h160v-160H620v160ZM180-180h160v-160H180v160Zm440 0h160v-160H620v160Z\"/>\n",
              "  </svg>\n",
              "    </button>\n",
              "\n",
              "  <style>\n",
              "    .colab-df-container {\n",
              "      display:flex;\n",
              "      gap: 12px;\n",
              "    }\n",
              "\n",
              "    .colab-df-convert {\n",
              "      background-color: #E8F0FE;\n",
              "      border: none;\n",
              "      border-radius: 50%;\n",
              "      cursor: pointer;\n",
              "      display: none;\n",
              "      fill: #1967D2;\n",
              "      height: 32px;\n",
              "      padding: 0 0 0 0;\n",
              "      width: 32px;\n",
              "    }\n",
              "\n",
              "    .colab-df-convert:hover {\n",
              "      background-color: #E2EBFA;\n",
              "      box-shadow: 0px 1px 2px rgba(60, 64, 67, 0.3), 0px 1px 3px 1px rgba(60, 64, 67, 0.15);\n",
              "      fill: #174EA6;\n",
              "    }\n",
              "\n",
              "    .colab-df-buttons div {\n",
              "      margin-bottom: 4px;\n",
              "    }\n",
              "\n",
              "    [theme=dark] .colab-df-convert {\n",
              "      background-color: #3B4455;\n",
              "      fill: #D2E3FC;\n",
              "    }\n",
              "\n",
              "    [theme=dark] .colab-df-convert:hover {\n",
              "      background-color: #434B5C;\n",
              "      box-shadow: 0px 1px 3px 1px rgba(0, 0, 0, 0.15);\n",
              "      filter: drop-shadow(0px 1px 2px rgba(0, 0, 0, 0.3));\n",
              "      fill: #FFFFFF;\n",
              "    }\n",
              "  </style>\n",
              "\n",
              "    <script>\n",
              "      const buttonEl =\n",
              "        document.querySelector('#df-86b26650-e8c2-4654-9e2b-156cac3a6ba2 button.colab-df-convert');\n",
              "      buttonEl.style.display =\n",
              "        google.colab.kernel.accessAllowed ? 'block' : 'none';\n",
              "\n",
              "      async function convertToInteractive(key) {\n",
              "        const element = document.querySelector('#df-86b26650-e8c2-4654-9e2b-156cac3a6ba2');\n",
              "        const dataTable =\n",
              "          await google.colab.kernel.invokeFunction('convertToInteractive',\n",
              "                                                    [key], {});\n",
              "        if (!dataTable) return;\n",
              "\n",
              "        const docLinkHtml = 'Like what you see? Visit the ' +\n",
              "          '<a target=\"_blank\" href=https://colab.research.google.com/notebooks/data_table.ipynb>data table notebook</a>'\n",
              "          + ' to learn more about interactive tables.';\n",
              "        element.innerHTML = '';\n",
              "        dataTable['output_type'] = 'display_data';\n",
              "        await google.colab.output.renderOutput(dataTable, element);\n",
              "        const docLink = document.createElement('div');\n",
              "        docLink.innerHTML = docLinkHtml;\n",
              "        element.appendChild(docLink);\n",
              "      }\n",
              "    </script>\n",
              "  </div>\n",
              "\n",
              "\n",
              "<div id=\"df-aede49e1-3b65-4402-b396-20367adf1d84\">\n",
              "  <button class=\"colab-df-quickchart\" onclick=\"quickchart('df-aede49e1-3b65-4402-b396-20367adf1d84')\"\n",
              "            title=\"Suggest charts\"\n",
              "            style=\"display:none;\">\n",
              "\n",
              "<svg xmlns=\"http://www.w3.org/2000/svg\" height=\"24px\"viewBox=\"0 0 24 24\"\n",
              "     width=\"24px\">\n",
              "    <g>\n",
              "        <path d=\"M19 3H5c-1.1 0-2 .9-2 2v14c0 1.1.9 2 2 2h14c1.1 0 2-.9 2-2V5c0-1.1-.9-2-2-2zM9 17H7v-7h2v7zm4 0h-2V7h2v10zm4 0h-2v-4h2v4z\"/>\n",
              "    </g>\n",
              "</svg>\n",
              "  </button>\n",
              "\n",
              "<style>\n",
              "  .colab-df-quickchart {\n",
              "      --bg-color: #E8F0FE;\n",
              "      --fill-color: #1967D2;\n",
              "      --hover-bg-color: #E2EBFA;\n",
              "      --hover-fill-color: #174EA6;\n",
              "      --disabled-fill-color: #AAA;\n",
              "      --disabled-bg-color: #DDD;\n",
              "  }\n",
              "\n",
              "  [theme=dark] .colab-df-quickchart {\n",
              "      --bg-color: #3B4455;\n",
              "      --fill-color: #D2E3FC;\n",
              "      --hover-bg-color: #434B5C;\n",
              "      --hover-fill-color: #FFFFFF;\n",
              "      --disabled-bg-color: #3B4455;\n",
              "      --disabled-fill-color: #666;\n",
              "  }\n",
              "\n",
              "  .colab-df-quickchart {\n",
              "    background-color: var(--bg-color);\n",
              "    border: none;\n",
              "    border-radius: 50%;\n",
              "    cursor: pointer;\n",
              "    display: none;\n",
              "    fill: var(--fill-color);\n",
              "    height: 32px;\n",
              "    padding: 0;\n",
              "    width: 32px;\n",
              "  }\n",
              "\n",
              "  .colab-df-quickchart:hover {\n",
              "    background-color: var(--hover-bg-color);\n",
              "    box-shadow: 0 1px 2px rgba(60, 64, 67, 0.3), 0 1px 3px 1px rgba(60, 64, 67, 0.15);\n",
              "    fill: var(--button-hover-fill-color);\n",
              "  }\n",
              "\n",
              "  .colab-df-quickchart-complete:disabled,\n",
              "  .colab-df-quickchart-complete:disabled:hover {\n",
              "    background-color: var(--disabled-bg-color);\n",
              "    fill: var(--disabled-fill-color);\n",
              "    box-shadow: none;\n",
              "  }\n",
              "\n",
              "  .colab-df-spinner {\n",
              "    border: 2px solid var(--fill-color);\n",
              "    border-color: transparent;\n",
              "    border-bottom-color: var(--fill-color);\n",
              "    animation:\n",
              "      spin 1s steps(1) infinite;\n",
              "  }\n",
              "\n",
              "  @keyframes spin {\n",
              "    0% {\n",
              "      border-color: transparent;\n",
              "      border-bottom-color: var(--fill-color);\n",
              "      border-left-color: var(--fill-color);\n",
              "    }\n",
              "    20% {\n",
              "      border-color: transparent;\n",
              "      border-left-color: var(--fill-color);\n",
              "      border-top-color: var(--fill-color);\n",
              "    }\n",
              "    30% {\n",
              "      border-color: transparent;\n",
              "      border-left-color: var(--fill-color);\n",
              "      border-top-color: var(--fill-color);\n",
              "      border-right-color: var(--fill-color);\n",
              "    }\n",
              "    40% {\n",
              "      border-color: transparent;\n",
              "      border-right-color: var(--fill-color);\n",
              "      border-top-color: var(--fill-color);\n",
              "    }\n",
              "    60% {\n",
              "      border-color: transparent;\n",
              "      border-right-color: var(--fill-color);\n",
              "    }\n",
              "    80% {\n",
              "      border-color: transparent;\n",
              "      border-right-color: var(--fill-color);\n",
              "      border-bottom-color: var(--fill-color);\n",
              "    }\n",
              "    90% {\n",
              "      border-color: transparent;\n",
              "      border-bottom-color: var(--fill-color);\n",
              "    }\n",
              "  }\n",
              "</style>\n",
              "\n",
              "  <script>\n",
              "    async function quickchart(key) {\n",
              "      const quickchartButtonEl =\n",
              "        document.querySelector('#' + key + ' button');\n",
              "      quickchartButtonEl.disabled = true;  // To prevent multiple clicks.\n",
              "      quickchartButtonEl.classList.add('colab-df-spinner');\n",
              "      try {\n",
              "        const charts = await google.colab.kernel.invokeFunction(\n",
              "            'suggestCharts', [key], {});\n",
              "      } catch (error) {\n",
              "        console.error('Error during call to suggestCharts:', error);\n",
              "      }\n",
              "      quickchartButtonEl.classList.remove('colab-df-spinner');\n",
              "      quickchartButtonEl.classList.add('colab-df-quickchart-complete');\n",
              "    }\n",
              "    (() => {\n",
              "      let quickchartButtonEl =\n",
              "        document.querySelector('#df-aede49e1-3b65-4402-b396-20367adf1d84 button');\n",
              "      quickchartButtonEl.style.display =\n",
              "        google.colab.kernel.accessAllowed ? 'block' : 'none';\n",
              "    })();\n",
              "  </script>\n",
              "</div>\n",
              "\n",
              "  <div id=\"id_548de809-bc62-4b32-a11b-d1d37466f564\">\n",
              "    <style>\n",
              "      .colab-df-generate {\n",
              "        background-color: #E8F0FE;\n",
              "        border: none;\n",
              "        border-radius: 50%;\n",
              "        cursor: pointer;\n",
              "        display: none;\n",
              "        fill: #1967D2;\n",
              "        height: 32px;\n",
              "        padding: 0 0 0 0;\n",
              "        width: 32px;\n",
              "      }\n",
              "\n",
              "      .colab-df-generate:hover {\n",
              "        background-color: #E2EBFA;\n",
              "        box-shadow: 0px 1px 2px rgba(60, 64, 67, 0.3), 0px 1px 3px 1px rgba(60, 64, 67, 0.15);\n",
              "        fill: #174EA6;\n",
              "      }\n",
              "\n",
              "      [theme=dark] .colab-df-generate {\n",
              "        background-color: #3B4455;\n",
              "        fill: #D2E3FC;\n",
              "      }\n",
              "\n",
              "      [theme=dark] .colab-df-generate:hover {\n",
              "        background-color: #434B5C;\n",
              "        box-shadow: 0px 1px 3px 1px rgba(0, 0, 0, 0.15);\n",
              "        filter: drop-shadow(0px 1px 2px rgba(0, 0, 0, 0.3));\n",
              "        fill: #FFFFFF;\n",
              "      }\n",
              "    </style>\n",
              "    <button class=\"colab-df-generate\" onclick=\"generateWithVariable('df')\"\n",
              "            title=\"Generate code using this dataframe.\"\n",
              "            style=\"display:none;\">\n",
              "\n",
              "  <svg xmlns=\"http://www.w3.org/2000/svg\" height=\"24px\"viewBox=\"0 0 24 24\"\n",
              "       width=\"24px\">\n",
              "    <path d=\"M7,19H8.4L18.45,9,17,7.55,7,17.6ZM5,21V16.75L18.45,3.32a2,2,0,0,1,2.83,0l1.4,1.43a1.91,1.91,0,0,1,.58,1.4,1.91,1.91,0,0,1-.58,1.4L9.25,21ZM18.45,9,17,7.55Zm-12,3A5.31,5.31,0,0,0,4.9,8.1,5.31,5.31,0,0,0,1,6.5,5.31,5.31,0,0,0,4.9,4.9,5.31,5.31,0,0,0,6.5,1,5.31,5.31,0,0,0,8.1,4.9,5.31,5.31,0,0,0,12,6.5,5.46,5.46,0,0,0,6.5,12Z\"/>\n",
              "  </svg>\n",
              "    </button>\n",
              "    <script>\n",
              "      (() => {\n",
              "      const buttonEl =\n",
              "        document.querySelector('#id_548de809-bc62-4b32-a11b-d1d37466f564 button.colab-df-generate');\n",
              "      buttonEl.style.display =\n",
              "        google.colab.kernel.accessAllowed ? 'block' : 'none';\n",
              "\n",
              "      buttonEl.onclick = () => {\n",
              "        google.colab.notebook.generateWithVariable('df');\n",
              "      }\n",
              "      })();\n",
              "    </script>\n",
              "  </div>\n",
              "\n",
              "    </div>\n",
              "  </div>\n"
            ]
          },
          "metadata": {},
          "execution_count": 16
        }
      ],
      "source": [
        "for ind, dictionary in enumerate(dict_list):\n",
        "    for key in dictionary:\n",
        "        df.loc[ind, key] = dictionary[key]\n",
        "\n",
        "df = df.dropna()\n",
        "\n",
        "df = df.drop('G0+', axis=1)\n",
        "\n",
        "df"
      ]
    },
    {
      "cell_type": "markdown",
      "id": "e3840fdb-32f5-4f44-aa1d-dc75c65aebf3",
      "metadata": {
        "id": "e3840fdb-32f5-4f44-aa1d-dc75c65aebf3"
      },
      "source": [
        "The next step is to create the columns that will contain the molar proportion multiplied by the electronegativity value of each atom. First, we will create a list, `element_list`, with all the chemical elements present in the dataset."
      ]
    },
    {
      "cell_type": "code",
      "execution_count": 17,
      "id": "e77f2e43-4960-4946-9177-f814ddf0ff51",
      "metadata": {
        "id": "e77f2e43-4960-4946-9177-f814ddf0ff51"
      },
      "outputs": [],
      "source": [
        "element_list = []\n",
        "\n",
        "for column in df:\n",
        "    element_list.append(column)\n",
        "\n",
        "element_list.remove('formula')\n",
        "element_list.remove('gap expt')"
      ]
    },
    {
      "cell_type": "markdown",
      "id": "4e6605c1-2d3c-4dbb-b731-dcd60e4ea015",
      "metadata": {
        "id": "4e6605c1-2d3c-4dbb-b731-dcd60e4ea015"
      },
      "source": [
        "Visualizing this list:"
      ]
    },
    {
      "cell_type": "code",
      "execution_count": 18,
      "id": "e48e9ed3-b56a-4485-a2b9-75d42d3c84c2",
      "metadata": {
        "colab": {
          "base_uri": "https://localhost:8080/"
        },
        "id": "e48e9ed3-b56a-4485-a2b9-75d42d3c84c2",
        "outputId": "7ed7de46-bdba-4126-8d8d-2cdbb84ec29e"
      },
      "outputs": [
        {
          "output_type": "stream",
          "name": "stdout",
          "text": [
            "['Hg', 'Cd', 'Te', 'Cu', 'Br', 'Lu', 'P', 'Sb', 'Se', 'Zn']\n"
          ]
        }
      ],
      "source": [
        "print(element_list[0:10])"
      ]
    },
    {
      "cell_type": "markdown",
      "id": "86b22ef6-772e-4cdc-a67e-f5c8fd282421",
      "metadata": {
        "id": "86b22ef6-772e-4cdc-a67e-f5c8fd282421"
      },
      "source": [
        "Next, we use another powerful libraries to obtain the electronegativity property of the elements. For this, we use the `mendeleev` library, that contains information from Pauling's Electronegativity, which is a scale that assigns numerical values to the atoms electronegativity. The higher the electronegativity value of an atom, the greater its affinity for electrons."
      ]
    },
    {
      "cell_type": "markdown",
      "id": "8ad8ede9-c67c-453e-ba23-219b5d4dd530",
      "metadata": {
        "id": "8ad8ede9-c67c-453e-ba23-219b5d4dd530"
      },
      "source": [
        "Next, we will create a list, `en_list`, that contains the electronegativity values of each atom, with the `element.en_pauling` method of the `element` object of the `mendeleev` module."
      ]
    },
    {
      "cell_type": "code",
      "execution_count": 19,
      "id": "642181a8-886f-4974-9b34-c69b83096547",
      "metadata": {
        "id": "642181a8-886f-4974-9b34-c69b83096547"
      },
      "outputs": [],
      "source": [
        "en_list = [element(elem).en_pauling for elem in element_list]\n",
        "\n",
        "en_list[79] = 1.13\n",
        "en_list[47] = 1.2\n",
        "en_list[48] = 1.1\n",
        "en_list[57] = 1.2"
      ]
    },
    {
      "cell_type": "markdown",
      "id": "13482d3f-d4a5-47e0-bd73-2ad13a315229",
      "metadata": {
        "id": "13482d3f-d4a5-47e0-bd73-2ad13a315229"
      },
      "source": [
        " The elements `Eu`, `Pm`, `Yb` and `Tb` had an electronegativity value of `None` according to the `mendeleev` module, but we searched Wikipedia for their respective values and added them manually.\n",
        "\n",
        " For this, we create a dictionary, `en_dict`, that joins the two lists above, with the key being a chemical element and its respective electronegativity value on the Pauling scale."
      ]
    },
    {
      "cell_type": "code",
      "execution_count": 22,
      "id": "5a65f50d-3733-4d7f-9f26-6948a49a0b16",
      "metadata": {
        "colab": {
          "base_uri": "https://localhost:8080/"
        },
        "id": "5a65f50d-3733-4d7f-9f26-6948a49a0b16",
        "outputId": "0ec132ff-fc68-4527-d2ed-44a7376f6605"
      },
      "outputs": [
        {
          "output_type": "stream",
          "name": "stdout",
          "text": [
            "{'Hg': 1.9, 'Cd': 1.69, 'Te': 2.1, 'Cu': 1.9, 'Br': 2.96, 'Lu': 1.0, 'P': 2.19, 'Sb': 2.05, 'Se': 2.55, 'Zn': 1.65, 'O': 3.44, 'Pt': 2.2, 'In': 1.78, 'S': 2.58, 'K': 0.82, 'Sn': 1.96, 'Ce': 1.12, 'Pb': 1.8, 'B': 2.04, 'Cr': 1.66, 'Sr': 0.95, 'Be': 1.57, 'Nb': 1.6, 'Pr': 1.13, 'As': 2.18, 'Ba': 0.89, 'Ga': 1.81, 'Ge': 2.01, 'Ag': 1.93, 'Rb': 0.82, 'Th': 1.3, 'Tl': 1.8, 'Al': 1.61, 'Bi': 1.9, 'Au': 2.4, 'Cs': 0.79, 'H': 2.2, 'Si': 1.9, 'N': 3.04, 'Gd': 1.2, 'Sc': 1.36, 'Mn': 1.55, 'La': 1.1, 'F': 3.98, 'Cl': 3.16, 'I': 2.66, 'W': 1.7, 'Eu': 1.2, 'Yb': 1.1, 'Tm': 1.25, 'Sm': 1.17, 'Na': 0.93, 'Mo': 2.16, 'V': 1.63, 'U': 1.7, 'Ta': 1.5, 'Pd': 2.2, 'Tb': 1.2, 'Ca': 1.0, 'Zr': 1.33, 'Er': 1.24, 'Hf': 1.3, 'Y': 1.22, 'Mg': 1.31, 'Li': 0.98, 'Os': 2.2, 'Ru': 2.2, 'Ti': 1.54, 'Fe': 1.83, 'Dy': 1.22, 'Ir': 2.2, 'Co': 1.88, 'Nd': 1.14, 'Ho': 1.23, 'C': 2.55, 'Rh': 2.28, 'Ni': 1.91, 'Tc': 2.1, 'Re': 1.9, 'Pm': 1.13, 'Xe': 2.6}\n"
          ]
        }
      ],
      "source": [
        "en_dict = {}\n",
        "\n",
        "for i in range(len(element_list)):\n",
        "    en_dict.update({element_list[i]:en_list[i]})\n",
        "\n",
        "print(en_dict)"
      ]
    },
    {
      "cell_type": "markdown",
      "id": "ed42d491-4db9-4a18-bcb5-3a8a9a036dbe",
      "metadata": {
        "id": "ed42d491-4db9-4a18-bcb5-3a8a9a036dbe"
      },
      "source": [
        "Finally, we will create the columns that contain the molar proportion of the material multiplied by the electronegativity value of each atom in its structure."
      ]
    },
    {
      "cell_type": "code",
      "execution_count": 23,
      "id": "631ce50e-590f-454a-abce-dc1efec64ee8",
      "metadata": {
        "colab": {
          "base_uri": "https://localhost:8080/",
          "height": 424
        },
        "id": "631ce50e-590f-454a-abce-dc1efec64ee8",
        "outputId": "fce20526-5f66-4854-f479-e04961d9c845"
      },
      "outputs": [
        {
          "output_type": "execute_result",
          "data": {
            "text/plain": [
              "           formula  gap expt   Hg   Cd   Te   Cu   Br   Lu    P   Sb  ...  \\\n",
              "0     Hg0.7Cd0.3Te      0.35  0.7  0.3  1.0  0.0  0.0  0.0  0.0  0.0  ...   \n",
              "1             CuBr      3.08  0.0  0.0  0.0  1.0  1.0  0.0  0.0  0.0  ...   \n",
              "2              LuP      1.30  0.0  0.0  0.0  0.0  0.0  1.0  1.0  0.0  ...   \n",
              "3         Cu3SbSe4      0.40  0.0  0.0  0.0  3.0  0.0  0.0  0.0  1.0  ...   \n",
              "4              ZnO      3.44  0.0  0.0  0.0  0.0  0.0  0.0  0.0  0.0  ...   \n",
              "...            ...       ...  ...  ...  ...  ...  ...  ...  ...  ...  ...   \n",
              "6349       Tm2MgTl      0.00  0.0  0.0  0.0  0.0  0.0  0.0  0.0  0.0  ...   \n",
              "6350        Nb5Ga4      0.00  0.0  0.0  0.0  0.0  0.0  0.0  0.0  0.0  ...   \n",
              "6351        Tb2Sb5      0.00  0.0  0.0  0.0  0.0  0.0  0.0  0.0  5.0  ...   \n",
              "6352       Lu2AlTc      0.00  0.0  0.0  0.0  0.0  0.0  2.0  0.0  0.0  ...   \n",
              "6353        CeZnPO      0.00  0.0  0.0  0.0  0.0  0.0  0.0  1.0  0.0  ...   \n",
              "\n",
              "      Co_en  Nd_en  Ho_en  C_en  Rh_en  Ni_en  Tc_en  Re_en  Pm_en  Xe_en  \n",
              "0       0.0    0.0    0.0   0.0    0.0    0.0    0.0    0.0    0.0    0.0  \n",
              "1       0.0    0.0    0.0   0.0    0.0    0.0    0.0    0.0    0.0    0.0  \n",
              "2       0.0    0.0    0.0   0.0    0.0    0.0    0.0    0.0    0.0    0.0  \n",
              "3       0.0    0.0    0.0   0.0    0.0    0.0    0.0    0.0    0.0    0.0  \n",
              "4       0.0    0.0    0.0   0.0    0.0    0.0    0.0    0.0    0.0    0.0  \n",
              "...     ...    ...    ...   ...    ...    ...    ...    ...    ...    ...  \n",
              "6349    0.0    0.0    0.0   0.0    0.0    0.0    0.0    0.0    0.0    0.0  \n",
              "6350    0.0    0.0    0.0   0.0    0.0    0.0    0.0    0.0    0.0    0.0  \n",
              "6351    0.0    0.0    0.0   0.0    0.0    0.0    0.0    0.0    0.0    0.0  \n",
              "6352    0.0    0.0    0.0   0.0    0.0    0.0    2.1    0.0    0.0    0.0  \n",
              "6353    0.0    0.0    0.0   0.0    0.0    0.0    0.0    0.0    0.0    0.0  \n",
              "\n",
              "[6354 rows x 164 columns]"
            ],
            "text/html": [
              "\n",
              "  <div id=\"df-b5fc7876-abed-4147-83ca-90d5bd245d9a\" class=\"colab-df-container\">\n",
              "    <div>\n",
              "<style scoped>\n",
              "    .dataframe tbody tr th:only-of-type {\n",
              "        vertical-align: middle;\n",
              "    }\n",
              "\n",
              "    .dataframe tbody tr th {\n",
              "        vertical-align: top;\n",
              "    }\n",
              "\n",
              "    .dataframe thead th {\n",
              "        text-align: right;\n",
              "    }\n",
              "</style>\n",
              "<table border=\"1\" class=\"dataframe\">\n",
              "  <thead>\n",
              "    <tr style=\"text-align: right;\">\n",
              "      <th></th>\n",
              "      <th>formula</th>\n",
              "      <th>gap expt</th>\n",
              "      <th>Hg</th>\n",
              "      <th>Cd</th>\n",
              "      <th>Te</th>\n",
              "      <th>Cu</th>\n",
              "      <th>Br</th>\n",
              "      <th>Lu</th>\n",
              "      <th>P</th>\n",
              "      <th>Sb</th>\n",
              "      <th>...</th>\n",
              "      <th>Co_en</th>\n",
              "      <th>Nd_en</th>\n",
              "      <th>Ho_en</th>\n",
              "      <th>C_en</th>\n",
              "      <th>Rh_en</th>\n",
              "      <th>Ni_en</th>\n",
              "      <th>Tc_en</th>\n",
              "      <th>Re_en</th>\n",
              "      <th>Pm_en</th>\n",
              "      <th>Xe_en</th>\n",
              "    </tr>\n",
              "  </thead>\n",
              "  <tbody>\n",
              "    <tr>\n",
              "      <th>0</th>\n",
              "      <td>Hg0.7Cd0.3Te</td>\n",
              "      <td>0.35</td>\n",
              "      <td>0.7</td>\n",
              "      <td>0.3</td>\n",
              "      <td>1.0</td>\n",
              "      <td>0.0</td>\n",
              "      <td>0.0</td>\n",
              "      <td>0.0</td>\n",
              "      <td>0.0</td>\n",
              "      <td>0.0</td>\n",
              "      <td>...</td>\n",
              "      <td>0.0</td>\n",
              "      <td>0.0</td>\n",
              "      <td>0.0</td>\n",
              "      <td>0.0</td>\n",
              "      <td>0.0</td>\n",
              "      <td>0.0</td>\n",
              "      <td>0.0</td>\n",
              "      <td>0.0</td>\n",
              "      <td>0.0</td>\n",
              "      <td>0.0</td>\n",
              "    </tr>\n",
              "    <tr>\n",
              "      <th>1</th>\n",
              "      <td>CuBr</td>\n",
              "      <td>3.08</td>\n",
              "      <td>0.0</td>\n",
              "      <td>0.0</td>\n",
              "      <td>0.0</td>\n",
              "      <td>1.0</td>\n",
              "      <td>1.0</td>\n",
              "      <td>0.0</td>\n",
              "      <td>0.0</td>\n",
              "      <td>0.0</td>\n",
              "      <td>...</td>\n",
              "      <td>0.0</td>\n",
              "      <td>0.0</td>\n",
              "      <td>0.0</td>\n",
              "      <td>0.0</td>\n",
              "      <td>0.0</td>\n",
              "      <td>0.0</td>\n",
              "      <td>0.0</td>\n",
              "      <td>0.0</td>\n",
              "      <td>0.0</td>\n",
              "      <td>0.0</td>\n",
              "    </tr>\n",
              "    <tr>\n",
              "      <th>2</th>\n",
              "      <td>LuP</td>\n",
              "      <td>1.30</td>\n",
              "      <td>0.0</td>\n",
              "      <td>0.0</td>\n",
              "      <td>0.0</td>\n",
              "      <td>0.0</td>\n",
              "      <td>0.0</td>\n",
              "      <td>1.0</td>\n",
              "      <td>1.0</td>\n",
              "      <td>0.0</td>\n",
              "      <td>...</td>\n",
              "      <td>0.0</td>\n",
              "      <td>0.0</td>\n",
              "      <td>0.0</td>\n",
              "      <td>0.0</td>\n",
              "      <td>0.0</td>\n",
              "      <td>0.0</td>\n",
              "      <td>0.0</td>\n",
              "      <td>0.0</td>\n",
              "      <td>0.0</td>\n",
              "      <td>0.0</td>\n",
              "    </tr>\n",
              "    <tr>\n",
              "      <th>3</th>\n",
              "      <td>Cu3SbSe4</td>\n",
              "      <td>0.40</td>\n",
              "      <td>0.0</td>\n",
              "      <td>0.0</td>\n",
              "      <td>0.0</td>\n",
              "      <td>3.0</td>\n",
              "      <td>0.0</td>\n",
              "      <td>0.0</td>\n",
              "      <td>0.0</td>\n",
              "      <td>1.0</td>\n",
              "      <td>...</td>\n",
              "      <td>0.0</td>\n",
              "      <td>0.0</td>\n",
              "      <td>0.0</td>\n",
              "      <td>0.0</td>\n",
              "      <td>0.0</td>\n",
              "      <td>0.0</td>\n",
              "      <td>0.0</td>\n",
              "      <td>0.0</td>\n",
              "      <td>0.0</td>\n",
              "      <td>0.0</td>\n",
              "    </tr>\n",
              "    <tr>\n",
              "      <th>4</th>\n",
              "      <td>ZnO</td>\n",
              "      <td>3.44</td>\n",
              "      <td>0.0</td>\n",
              "      <td>0.0</td>\n",
              "      <td>0.0</td>\n",
              "      <td>0.0</td>\n",
              "      <td>0.0</td>\n",
              "      <td>0.0</td>\n",
              "      <td>0.0</td>\n",
              "      <td>0.0</td>\n",
              "      <td>...</td>\n",
              "      <td>0.0</td>\n",
              "      <td>0.0</td>\n",
              "      <td>0.0</td>\n",
              "      <td>0.0</td>\n",
              "      <td>0.0</td>\n",
              "      <td>0.0</td>\n",
              "      <td>0.0</td>\n",
              "      <td>0.0</td>\n",
              "      <td>0.0</td>\n",
              "      <td>0.0</td>\n",
              "    </tr>\n",
              "    <tr>\n",
              "      <th>...</th>\n",
              "      <td>...</td>\n",
              "      <td>...</td>\n",
              "      <td>...</td>\n",
              "      <td>...</td>\n",
              "      <td>...</td>\n",
              "      <td>...</td>\n",
              "      <td>...</td>\n",
              "      <td>...</td>\n",
              "      <td>...</td>\n",
              "      <td>...</td>\n",
              "      <td>...</td>\n",
              "      <td>...</td>\n",
              "      <td>...</td>\n",
              "      <td>...</td>\n",
              "      <td>...</td>\n",
              "      <td>...</td>\n",
              "      <td>...</td>\n",
              "      <td>...</td>\n",
              "      <td>...</td>\n",
              "      <td>...</td>\n",
              "      <td>...</td>\n",
              "    </tr>\n",
              "    <tr>\n",
              "      <th>6349</th>\n",
              "      <td>Tm2MgTl</td>\n",
              "      <td>0.00</td>\n",
              "      <td>0.0</td>\n",
              "      <td>0.0</td>\n",
              "      <td>0.0</td>\n",
              "      <td>0.0</td>\n",
              "      <td>0.0</td>\n",
              "      <td>0.0</td>\n",
              "      <td>0.0</td>\n",
              "      <td>0.0</td>\n",
              "      <td>...</td>\n",
              "      <td>0.0</td>\n",
              "      <td>0.0</td>\n",
              "      <td>0.0</td>\n",
              "      <td>0.0</td>\n",
              "      <td>0.0</td>\n",
              "      <td>0.0</td>\n",
              "      <td>0.0</td>\n",
              "      <td>0.0</td>\n",
              "      <td>0.0</td>\n",
              "      <td>0.0</td>\n",
              "    </tr>\n",
              "    <tr>\n",
              "      <th>6350</th>\n",
              "      <td>Nb5Ga4</td>\n",
              "      <td>0.00</td>\n",
              "      <td>0.0</td>\n",
              "      <td>0.0</td>\n",
              "      <td>0.0</td>\n",
              "      <td>0.0</td>\n",
              "      <td>0.0</td>\n",
              "      <td>0.0</td>\n",
              "      <td>0.0</td>\n",
              "      <td>0.0</td>\n",
              "      <td>...</td>\n",
              "      <td>0.0</td>\n",
              "      <td>0.0</td>\n",
              "      <td>0.0</td>\n",
              "      <td>0.0</td>\n",
              "      <td>0.0</td>\n",
              "      <td>0.0</td>\n",
              "      <td>0.0</td>\n",
              "      <td>0.0</td>\n",
              "      <td>0.0</td>\n",
              "      <td>0.0</td>\n",
              "    </tr>\n",
              "    <tr>\n",
              "      <th>6351</th>\n",
              "      <td>Tb2Sb5</td>\n",
              "      <td>0.00</td>\n",
              "      <td>0.0</td>\n",
              "      <td>0.0</td>\n",
              "      <td>0.0</td>\n",
              "      <td>0.0</td>\n",
              "      <td>0.0</td>\n",
              "      <td>0.0</td>\n",
              "      <td>0.0</td>\n",
              "      <td>5.0</td>\n",
              "      <td>...</td>\n",
              "      <td>0.0</td>\n",
              "      <td>0.0</td>\n",
              "      <td>0.0</td>\n",
              "      <td>0.0</td>\n",
              "      <td>0.0</td>\n",
              "      <td>0.0</td>\n",
              "      <td>0.0</td>\n",
              "      <td>0.0</td>\n",
              "      <td>0.0</td>\n",
              "      <td>0.0</td>\n",
              "    </tr>\n",
              "    <tr>\n",
              "      <th>6352</th>\n",
              "      <td>Lu2AlTc</td>\n",
              "      <td>0.00</td>\n",
              "      <td>0.0</td>\n",
              "      <td>0.0</td>\n",
              "      <td>0.0</td>\n",
              "      <td>0.0</td>\n",
              "      <td>0.0</td>\n",
              "      <td>2.0</td>\n",
              "      <td>0.0</td>\n",
              "      <td>0.0</td>\n",
              "      <td>...</td>\n",
              "      <td>0.0</td>\n",
              "      <td>0.0</td>\n",
              "      <td>0.0</td>\n",
              "      <td>0.0</td>\n",
              "      <td>0.0</td>\n",
              "      <td>0.0</td>\n",
              "      <td>2.1</td>\n",
              "      <td>0.0</td>\n",
              "      <td>0.0</td>\n",
              "      <td>0.0</td>\n",
              "    </tr>\n",
              "    <tr>\n",
              "      <th>6353</th>\n",
              "      <td>CeZnPO</td>\n",
              "      <td>0.00</td>\n",
              "      <td>0.0</td>\n",
              "      <td>0.0</td>\n",
              "      <td>0.0</td>\n",
              "      <td>0.0</td>\n",
              "      <td>0.0</td>\n",
              "      <td>0.0</td>\n",
              "      <td>1.0</td>\n",
              "      <td>0.0</td>\n",
              "      <td>...</td>\n",
              "      <td>0.0</td>\n",
              "      <td>0.0</td>\n",
              "      <td>0.0</td>\n",
              "      <td>0.0</td>\n",
              "      <td>0.0</td>\n",
              "      <td>0.0</td>\n",
              "      <td>0.0</td>\n",
              "      <td>0.0</td>\n",
              "      <td>0.0</td>\n",
              "      <td>0.0</td>\n",
              "    </tr>\n",
              "  </tbody>\n",
              "</table>\n",
              "<p>6354 rows × 164 columns</p>\n",
              "</div>\n",
              "    <div class=\"colab-df-buttons\">\n",
              "\n",
              "  <div class=\"colab-df-container\">\n",
              "    <button class=\"colab-df-convert\" onclick=\"convertToInteractive('df-b5fc7876-abed-4147-83ca-90d5bd245d9a')\"\n",
              "            title=\"Convert this dataframe to an interactive table.\"\n",
              "            style=\"display:none;\">\n",
              "\n",
              "  <svg xmlns=\"http://www.w3.org/2000/svg\" height=\"24px\" viewBox=\"0 -960 960 960\">\n",
              "    <path d=\"M120-120v-720h720v720H120Zm60-500h600v-160H180v160Zm220 220h160v-160H400v160Zm0 220h160v-160H400v160ZM180-400h160v-160H180v160Zm440 0h160v-160H620v160ZM180-180h160v-160H180v160Zm440 0h160v-160H620v160Z\"/>\n",
              "  </svg>\n",
              "    </button>\n",
              "\n",
              "  <style>\n",
              "    .colab-df-container {\n",
              "      display:flex;\n",
              "      gap: 12px;\n",
              "    }\n",
              "\n",
              "    .colab-df-convert {\n",
              "      background-color: #E8F0FE;\n",
              "      border: none;\n",
              "      border-radius: 50%;\n",
              "      cursor: pointer;\n",
              "      display: none;\n",
              "      fill: #1967D2;\n",
              "      height: 32px;\n",
              "      padding: 0 0 0 0;\n",
              "      width: 32px;\n",
              "    }\n",
              "\n",
              "    .colab-df-convert:hover {\n",
              "      background-color: #E2EBFA;\n",
              "      box-shadow: 0px 1px 2px rgba(60, 64, 67, 0.3), 0px 1px 3px 1px rgba(60, 64, 67, 0.15);\n",
              "      fill: #174EA6;\n",
              "    }\n",
              "\n",
              "    .colab-df-buttons div {\n",
              "      margin-bottom: 4px;\n",
              "    }\n",
              "\n",
              "    [theme=dark] .colab-df-convert {\n",
              "      background-color: #3B4455;\n",
              "      fill: #D2E3FC;\n",
              "    }\n",
              "\n",
              "    [theme=dark] .colab-df-convert:hover {\n",
              "      background-color: #434B5C;\n",
              "      box-shadow: 0px 1px 3px 1px rgba(0, 0, 0, 0.15);\n",
              "      filter: drop-shadow(0px 1px 2px rgba(0, 0, 0, 0.3));\n",
              "      fill: #FFFFFF;\n",
              "    }\n",
              "  </style>\n",
              "\n",
              "    <script>\n",
              "      const buttonEl =\n",
              "        document.querySelector('#df-b5fc7876-abed-4147-83ca-90d5bd245d9a button.colab-df-convert');\n",
              "      buttonEl.style.display =\n",
              "        google.colab.kernel.accessAllowed ? 'block' : 'none';\n",
              "\n",
              "      async function convertToInteractive(key) {\n",
              "        const element = document.querySelector('#df-b5fc7876-abed-4147-83ca-90d5bd245d9a');\n",
              "        const dataTable =\n",
              "          await google.colab.kernel.invokeFunction('convertToInteractive',\n",
              "                                                    [key], {});\n",
              "        if (!dataTable) return;\n",
              "\n",
              "        const docLinkHtml = 'Like what you see? Visit the ' +\n",
              "          '<a target=\"_blank\" href=https://colab.research.google.com/notebooks/data_table.ipynb>data table notebook</a>'\n",
              "          + ' to learn more about interactive tables.';\n",
              "        element.innerHTML = '';\n",
              "        dataTable['output_type'] = 'display_data';\n",
              "        await google.colab.output.renderOutput(dataTable, element);\n",
              "        const docLink = document.createElement('div');\n",
              "        docLink.innerHTML = docLinkHtml;\n",
              "        element.appendChild(docLink);\n",
              "      }\n",
              "    </script>\n",
              "  </div>\n",
              "\n",
              "\n",
              "<div id=\"df-da7adf92-1a33-4cc0-8890-ab7591e241f4\">\n",
              "  <button class=\"colab-df-quickchart\" onclick=\"quickchart('df-da7adf92-1a33-4cc0-8890-ab7591e241f4')\"\n",
              "            title=\"Suggest charts\"\n",
              "            style=\"display:none;\">\n",
              "\n",
              "<svg xmlns=\"http://www.w3.org/2000/svg\" height=\"24px\"viewBox=\"0 0 24 24\"\n",
              "     width=\"24px\">\n",
              "    <g>\n",
              "        <path d=\"M19 3H5c-1.1 0-2 .9-2 2v14c0 1.1.9 2 2 2h14c1.1 0 2-.9 2-2V5c0-1.1-.9-2-2-2zM9 17H7v-7h2v7zm4 0h-2V7h2v10zm4 0h-2v-4h2v4z\"/>\n",
              "    </g>\n",
              "</svg>\n",
              "  </button>\n",
              "\n",
              "<style>\n",
              "  .colab-df-quickchart {\n",
              "      --bg-color: #E8F0FE;\n",
              "      --fill-color: #1967D2;\n",
              "      --hover-bg-color: #E2EBFA;\n",
              "      --hover-fill-color: #174EA6;\n",
              "      --disabled-fill-color: #AAA;\n",
              "      --disabled-bg-color: #DDD;\n",
              "  }\n",
              "\n",
              "  [theme=dark] .colab-df-quickchart {\n",
              "      --bg-color: #3B4455;\n",
              "      --fill-color: #D2E3FC;\n",
              "      --hover-bg-color: #434B5C;\n",
              "      --hover-fill-color: #FFFFFF;\n",
              "      --disabled-bg-color: #3B4455;\n",
              "      --disabled-fill-color: #666;\n",
              "  }\n",
              "\n",
              "  .colab-df-quickchart {\n",
              "    background-color: var(--bg-color);\n",
              "    border: none;\n",
              "    border-radius: 50%;\n",
              "    cursor: pointer;\n",
              "    display: none;\n",
              "    fill: var(--fill-color);\n",
              "    height: 32px;\n",
              "    padding: 0;\n",
              "    width: 32px;\n",
              "  }\n",
              "\n",
              "  .colab-df-quickchart:hover {\n",
              "    background-color: var(--hover-bg-color);\n",
              "    box-shadow: 0 1px 2px rgba(60, 64, 67, 0.3), 0 1px 3px 1px rgba(60, 64, 67, 0.15);\n",
              "    fill: var(--button-hover-fill-color);\n",
              "  }\n",
              "\n",
              "  .colab-df-quickchart-complete:disabled,\n",
              "  .colab-df-quickchart-complete:disabled:hover {\n",
              "    background-color: var(--disabled-bg-color);\n",
              "    fill: var(--disabled-fill-color);\n",
              "    box-shadow: none;\n",
              "  }\n",
              "\n",
              "  .colab-df-spinner {\n",
              "    border: 2px solid var(--fill-color);\n",
              "    border-color: transparent;\n",
              "    border-bottom-color: var(--fill-color);\n",
              "    animation:\n",
              "      spin 1s steps(1) infinite;\n",
              "  }\n",
              "\n",
              "  @keyframes spin {\n",
              "    0% {\n",
              "      border-color: transparent;\n",
              "      border-bottom-color: var(--fill-color);\n",
              "      border-left-color: var(--fill-color);\n",
              "    }\n",
              "    20% {\n",
              "      border-color: transparent;\n",
              "      border-left-color: var(--fill-color);\n",
              "      border-top-color: var(--fill-color);\n",
              "    }\n",
              "    30% {\n",
              "      border-color: transparent;\n",
              "      border-left-color: var(--fill-color);\n",
              "      border-top-color: var(--fill-color);\n",
              "      border-right-color: var(--fill-color);\n",
              "    }\n",
              "    40% {\n",
              "      border-color: transparent;\n",
              "      border-right-color: var(--fill-color);\n",
              "      border-top-color: var(--fill-color);\n",
              "    }\n",
              "    60% {\n",
              "      border-color: transparent;\n",
              "      border-right-color: var(--fill-color);\n",
              "    }\n",
              "    80% {\n",
              "      border-color: transparent;\n",
              "      border-right-color: var(--fill-color);\n",
              "      border-bottom-color: var(--fill-color);\n",
              "    }\n",
              "    90% {\n",
              "      border-color: transparent;\n",
              "      border-bottom-color: var(--fill-color);\n",
              "    }\n",
              "  }\n",
              "</style>\n",
              "\n",
              "  <script>\n",
              "    async function quickchart(key) {\n",
              "      const quickchartButtonEl =\n",
              "        document.querySelector('#' + key + ' button');\n",
              "      quickchartButtonEl.disabled = true;  // To prevent multiple clicks.\n",
              "      quickchartButtonEl.classList.add('colab-df-spinner');\n",
              "      try {\n",
              "        const charts = await google.colab.kernel.invokeFunction(\n",
              "            'suggestCharts', [key], {});\n",
              "      } catch (error) {\n",
              "        console.error('Error during call to suggestCharts:', error);\n",
              "      }\n",
              "      quickchartButtonEl.classList.remove('colab-df-spinner');\n",
              "      quickchartButtonEl.classList.add('colab-df-quickchart-complete');\n",
              "    }\n",
              "    (() => {\n",
              "      let quickchartButtonEl =\n",
              "        document.querySelector('#df-da7adf92-1a33-4cc0-8890-ab7591e241f4 button');\n",
              "      quickchartButtonEl.style.display =\n",
              "        google.colab.kernel.accessAllowed ? 'block' : 'none';\n",
              "    })();\n",
              "  </script>\n",
              "</div>\n",
              "\n",
              "  <div id=\"id_2aefd2c5-c221-4a23-8b2b-d49d47240e50\">\n",
              "    <style>\n",
              "      .colab-df-generate {\n",
              "        background-color: #E8F0FE;\n",
              "        border: none;\n",
              "        border-radius: 50%;\n",
              "        cursor: pointer;\n",
              "        display: none;\n",
              "        fill: #1967D2;\n",
              "        height: 32px;\n",
              "        padding: 0 0 0 0;\n",
              "        width: 32px;\n",
              "      }\n",
              "\n",
              "      .colab-df-generate:hover {\n",
              "        background-color: #E2EBFA;\n",
              "        box-shadow: 0px 1px 2px rgba(60, 64, 67, 0.3), 0px 1px 3px 1px rgba(60, 64, 67, 0.15);\n",
              "        fill: #174EA6;\n",
              "      }\n",
              "\n",
              "      [theme=dark] .colab-df-generate {\n",
              "        background-color: #3B4455;\n",
              "        fill: #D2E3FC;\n",
              "      }\n",
              "\n",
              "      [theme=dark] .colab-df-generate:hover {\n",
              "        background-color: #434B5C;\n",
              "        box-shadow: 0px 1px 3px 1px rgba(0, 0, 0, 0.15);\n",
              "        filter: drop-shadow(0px 1px 2px rgba(0, 0, 0, 0.3));\n",
              "        fill: #FFFFFF;\n",
              "      }\n",
              "    </style>\n",
              "    <button class=\"colab-df-generate\" onclick=\"generateWithVariable('df')\"\n",
              "            title=\"Generate code using this dataframe.\"\n",
              "            style=\"display:none;\">\n",
              "\n",
              "  <svg xmlns=\"http://www.w3.org/2000/svg\" height=\"24px\"viewBox=\"0 0 24 24\"\n",
              "       width=\"24px\">\n",
              "    <path d=\"M7,19H8.4L18.45,9,17,7.55,7,17.6ZM5,21V16.75L18.45,3.32a2,2,0,0,1,2.83,0l1.4,1.43a1.91,1.91,0,0,1,.58,1.4,1.91,1.91,0,0,1-.58,1.4L9.25,21ZM18.45,9,17,7.55Zm-12,3A5.31,5.31,0,0,0,4.9,8.1,5.31,5.31,0,0,0,1,6.5,5.31,5.31,0,0,0,4.9,4.9,5.31,5.31,0,0,0,6.5,1,5.31,5.31,0,0,0,8.1,4.9,5.31,5.31,0,0,0,12,6.5,5.46,5.46,0,0,0,6.5,12Z\"/>\n",
              "  </svg>\n",
              "    </button>\n",
              "    <script>\n",
              "      (() => {\n",
              "      const buttonEl =\n",
              "        document.querySelector('#id_2aefd2c5-c221-4a23-8b2b-d49d47240e50 button.colab-df-generate');\n",
              "      buttonEl.style.display =\n",
              "        google.colab.kernel.accessAllowed ? 'block' : 'none';\n",
              "\n",
              "      buttonEl.onclick = () => {\n",
              "        google.colab.notebook.generateWithVariable('df');\n",
              "      }\n",
              "      })();\n",
              "    </script>\n",
              "  </div>\n",
              "\n",
              "    </div>\n",
              "  </div>\n"
            ]
          },
          "metadata": {},
          "execution_count": 23
        }
      ],
      "source": [
        "for column in df:\n",
        "    if column != 'formula' and column != 'gap expt':\n",
        "        df[f'{column}_en'] = df[column] * en_dict[column]\n",
        "\n",
        "df"
      ]
    },
    {
      "cell_type": "markdown",
      "id": "5f7df431-969e-4a10-b83a-852493eefd39",
      "metadata": {
        "id": "5f7df431-969e-4a10-b83a-852493eefd39"
      },
      "source": [
        " We will now separate the two sets of features that will be used in Cases 1 and 2: `FEATURE1` contains only the molar proportion of the material, and `FEATURE2` contains the molar proportion multiplied by the electronegativity, as well as the `TARGET`, which will be the conductivity value of each material, `sigma [S/cm]`."
      ]
    },
    {
      "cell_type": "code",
      "execution_count": 25,
      "id": "ce45adae-ac3f-431c-8ba7-fe51ba8f1066",
      "metadata": {
        "id": "ce45adae-ac3f-431c-8ba7-fe51ba8f1066"
      },
      "outputs": [],
      "source": [
        "FEATURES1 = element_list\n",
        "FEATURES2 = [f'{elem}_en' for elem in element_list]\n",
        "TARGET = ['gap expt']"
      ]
    },
    {
      "cell_type": "markdown",
      "id": "faada4db-915c-4901-b366-b3b5820bd194",
      "metadata": {
        "id": "faada4db-915c-4901-b366-b3b5820bd194"
      },
      "source": [
        "## Case 1"
      ]
    },
    {
      "cell_type": "markdown",
      "id": "2447cdba-14c4-4cea-8d40-feed8edd1ee6",
      "metadata": {
        "id": "2447cdba-14c4-4cea-8d40-feed8edd1ee6"
      },
      "source": [
        "  In this case we will only use the molar proportion of the materials as features. All variables in this section will contain 1 at the end, to facilitate the differentiation of the variables of Case 2, which will be different only because of the different features.\n",
        "\n",
        "  All models will use normalization by the absolute maximum of the features, both in case 1 and case 2, to standardize the molar proportion in both cases."
      ]
    },
    {
      "cell_type": "markdown",
      "id": "c6eebb34-ea02-4498-851b-0cc82eb49910",
      "metadata": {
        "id": "c6eebb34-ea02-4498-851b-0cc82eb49910"
      },
      "source": [
        "### Train-Test Split"
      ]
    },
    {
      "cell_type": "markdown",
      "id": "31058e82-a9cb-4f7c-b231-ff937c9e7f32",
      "metadata": {
        "id": "31058e82-a9cb-4f7c-b231-ff937c9e7f32"
      },
      "source": [
        "  Performing the train and test split with `TEST_SIZE=0.1`."
      ]
    },
    {
      "cell_type": "code",
      "execution_count": 27,
      "id": "f1fff158-3f49-4c5c-bf0f-b9f33924c81d",
      "metadata": {
        "id": "f1fff158-3f49-4c5c-bf0f-b9f33924c81d"
      },
      "outputs": [],
      "source": [
        "df1 = df.copy()\n",
        "\n",
        "df1 = df1.reindex(FEATURES1 + TARGET, axis=1)\n",
        "df1 = df1.dropna()\n",
        "\n",
        "x1 = df1.reindex(FEATURES1, axis=1)\n",
        "y1 = df1.reindex(TARGET, axis=1)\n",
        "\n",
        "x1 = x1.values\n",
        "y1 = y1.values.ravel()\n",
        "\n",
        "x_train1, x_test1, y_train1, y_test1 = train_test_split(\n",
        "    x1, y1, test_size=TEST_SIZE, random_state=SEED\n",
        ")"
      ]
    },
    {
      "cell_type": "markdown",
      "id": "7a1c1094-8b1f-438f-9e13-46280ab2e4a5",
      "metadata": {
        "id": "7a1c1094-8b1f-438f-9e13-46280ab2e4a5"
      },
      "source": [
        "### Baseline"
      ]
    },
    {
      "cell_type": "markdown",
      "source": [
        "To get an idea if our models are acceptable, we will use the baseline model, `dummy1`, which will simply predict the mean of the conductivity values of the training data."
      ],
      "metadata": {
        "id": "4I3OpaujrQum"
      },
      "id": "4I3OpaujrQum"
    },
    {
      "cell_type": "code",
      "execution_count": 30,
      "id": "1a5614e0-a428-45e9-b01d-2ae8f44468a8",
      "metadata": {
        "colab": {
          "base_uri": "https://localhost:8080/"
        },
        "id": "1a5614e0-a428-45e9-b01d-2ae8f44468a8",
        "outputId": "d8e55449-7f5f-4274-c08f-7ef9ddd19ad5"
      },
      "outputs": [
        {
          "output_type": "stream",
          "name": "stdout",
          "text": [
            "The RMSE of the baseline model was: 1.708\n"
          ]
        }
      ],
      "source": [
        "dummy1 = make_pipeline(\n",
        "    MaxAbsScaler(),\n",
        "    DummyRegressor(),\n",
        ")\n",
        "\n",
        "dummy1.fit(x_train1, y_train1)\n",
        "y_dummy1 = dummy1.predict(x_test1)\n",
        "rmse_dummy1 = mean_squared_error(y_dummy1, y_test1, squared=False)\n",
        "\n",
        "print(f'The RMSE of the baseline model was: {rmse_dummy1:.3f}')"
      ]
    },
    {
      "cell_type": "markdown",
      "id": "48e45100-0044-45ff-bc0a-503282249dba",
      "metadata": {
        "tags": [],
        "id": "48e45100-0044-45ff-bc0a-503282249dba"
      },
      "source": [
        "### PCA"
      ]
    },
    {
      "cell_type": "markdown",
      "id": "e8a892c7-0a67-4794-969a-eedf7e6bcff2",
      "metadata": {
        "id": "e8a892c7-0a67-4794-969a-eedf7e6bcff2"
      },
      "source": [
        "First, we will perform PCA on the `x1` data to reduce the dimensionality of the problem, keeping 90% of the variance of the original dataset."
      ]
    },
    {
      "cell_type": "code",
      "execution_count": 36,
      "id": "1ef69d87-da96-4e70-8c3b-56e8330df6be",
      "metadata": {
        "colab": {
          "base_uri": "https://localhost:8080/",
          "height": 472
        },
        "id": "1ef69d87-da96-4e70-8c3b-56e8330df6be",
        "outputId": "711a09aa-80a0-4a04-c9f8-d9416761af05"
      },
      "outputs": [
        {
          "output_type": "display_data",
          "data": {
            "text/plain": [
              "<Figure size 640x480 with 2 Axes>"
            ],
            "image/png": "[encoded data removed]"
          },
          "metadata": {}
        }
      ],
      "source": [
        "pca1 = PCA()\n",
        "\n",
        "pca1.fit(x1)\n",
        "\n",
        "explained_var1 = pca1.explained_variance_ratio_\n",
        "cv1 = np.cumsum(explained_var1)\n",
        "id_components1 = np.arange(1, pca1.n_components_ + 1)\n",
        "\n",
        "fig1, axis1 = plt.subplots(1, 2)\n",
        "\n",
        "axis1[0].bar(id_components1, explained_var1)\n",
        "axis1[0].set(xlabel=\"component\", title=\"Explained Variance\", ylim=(0.0, 1.0))\n",
        "\n",
        "axis1[1].plot(np.r_[0, id_components1], np.r_[0, cv1], marker=\"o\")\n",
        "axis1[1].set(\n",
        "    xlabel=\"number of components\",\n",
        "    title=\"Acumulated Variance\",\n",
        "    ylim=(0.0, 1.0),\n",
        ")\n",
        "axis1[1].axhline(0.9, linestyle=\"--\", color=\"red\")\n",
        "\n",
        "plt.show()"
      ]
    },
    {
      "cell_type": "code",
      "execution_count": 37,
      "id": "9906ca15-8fc7-4a01-9032-736b9493897e",
      "metadata": {
        "tags": [],
        "colab": {
          "base_uri": "https://localhost:8080/"
        },
        "id": "9906ca15-8fc7-4a01-9032-736b9493897e",
        "outputId": "a3474fc5-2bcc-4bab-897c-768bbfad7417"
      },
      "outputs": [
        {
          "output_type": "stream",
          "name": "stdout",
          "text": [
            "The number of PCs to obtain a variance higher than 0.9 is: 30\n"
          ]
        }
      ],
      "source": [
        "print(f'The number of PCs to obtain a variance higher than 0.9 is: {len(cv1)-sum(cv1>0.9)}')"
      ]
    },
    {
      "cell_type": "markdown",
      "id": "4bc4ecca-a381-4a3c-88e9-288f96ebbb83",
      "metadata": {
        "id": "4bc4ecca-a381-4a3c-88e9-288f96ebbb83"
      },
      "source": [
        "To obtain an accumulated variance greater than 0.9, we need to use `COMP_NUM1=30`, in this case. Now, we can train our models."
      ]
    },
    {
      "cell_type": "markdown",
      "id": "353aa09d-a27a-455d-98e8-29e08c068c88",
      "metadata": {
        "id": "353aa09d-a27a-455d-98e8-29e08c068c88"
      },
      "source": [
        "### Linear Regresion with PCA"
      ]
    },
    {
      "cell_type": "code",
      "execution_count": 44,
      "id": "299112a3-bd0f-44c4-bd3a-d34a12a20a75",
      "metadata": {
        "colab": {
          "base_uri": "https://localhost:8080/"
        },
        "id": "299112a3-bd0f-44c4-bd3a-d34a12a20a75",
        "outputId": "f79024f1-6243-499f-c194-58ecfc7a47df"
      },
      "outputs": [
        {
          "output_type": "stream",
          "name": "stdout",
          "text": [
            "The RMSE of the linear regression using PCA was: 1.635\n"
          ]
        }
      ],
      "source": [
        "COMP_NUM1 = 30\n",
        "\n",
        "linear_regression_pca1 = make_pipeline(\n",
        "    MaxAbsScaler(),\n",
        "    PCA(COMP_NUM1),\n",
        "    LinearRegression(),\n",
        ")\n",
        "\n",
        "linear_regression_pca1.fit(x_train1, y_train1)\n",
        "y_linear_regression_pca1 = linear_regression_pca1.predict(x_test1)\n",
        "rmse_linear_regression_pca1 = mean_squared_error(y_linear_regression_pca1, y_test1, squared=False)\n",
        "\n",
        "print(f'The RMSE of the linear regression using PCA was: {rmse_linear_regression_pca1:.3f}')"
      ]
    },
    {
      "cell_type": "markdown",
      "id": "cbfd0232-6d23-42ae-9e72-46f5091e2e21",
      "metadata": {
        "id": "cbfd0232-6d23-42ae-9e72-46f5091e2e21"
      },
      "source": [
        "### Linear Regression without PCA"
      ]
    },
    {
      "cell_type": "code",
      "execution_count": 45,
      "id": "fe89056b-197c-4428-a625-f4fc0d1b054d",
      "metadata": {
        "colab": {
          "base_uri": "https://localhost:8080/"
        },
        "id": "fe89056b-197c-4428-a625-f4fc0d1b054d",
        "outputId": "00c11b3b-8f12-40fa-f440-3ab7783efb65"
      },
      "outputs": [
        {
          "output_type": "stream",
          "name": "stdout",
          "text": [
            "The RMSE of the linear regression without using PCA was: 1.607\n"
          ]
        }
      ],
      "source": [
        "linear_regression1 = make_pipeline(\n",
        "    MaxAbsScaler(),\n",
        "    LinearRegression()\n",
        ")\n",
        "\n",
        "linear_regression1.fit(x_train1, y_train1)\n",
        "y_linear_regression1 = linear_regression1.predict(x_test1)\n",
        "rmse_linear_regression1 = mean_squared_error(y_linear_regression1, y_test1, squared=False)\n",
        "\n",
        "print(f'The RMSE of the linear regression without using PCA was: {rmse_linear_regression1:.3f}')"
      ]
    },
    {
      "cell_type": "markdown",
      "id": "41c8a09a-76a6-4258-a324-25eccb392ef2",
      "metadata": {
        "id": "41c8a09a-76a6-4258-a324-25eccb392ef2"
      },
      "source": [
        "### Random Forest with PCA"
      ]
    },
    {
      "cell_type": "markdown",
      "id": "17913eda-ee4f-4829-a77b-4da1e8086329",
      "metadata": {
        "id": "17913eda-ee4f-4829-a77b-4da1e8086329"
      },
      "source": [
        "Tuning hyperparameters using the random search method, because of computacional speed:"
      ]
    },
    {
      "cell_type": "code",
      "execution_count": 43,
      "id": "cba53ee6-7c09-4acc-95c2-781ae3292a1e",
      "metadata": {
        "colab": {
          "base_uri": "https://localhost:8080/"
        },
        "id": "cba53ee6-7c09-4acc-95c2-781ae3292a1e",
        "outputId": "a90106df-70a3-4bf6-ccdb-471c74c73410"
      },
      "outputs": [
        {
          "output_type": "stream",
          "name": "stdout",
          "text": [
            "The best hyperparameter found were:\n",
            "{'min_samples_leaf': 2, 'max_leaf_nodes': None, 'max_depth': None}\n",
            "\n",
            "The best model had a RMSE of: 0.9065145969390921\n"
          ]
        }
      ],
      "source": [
        "random_forest1 = RandomForestRegressor(random_state=SEED)\n",
        "\n",
        "grid_random_forest1 = {\n",
        "    'max_depth': [None, 3, 4, 5, 6],\n",
        "    'min_samples_leaf': [1, 2, 5, 10],\n",
        "    'max_leaf_nodes': [None, 10, 20, 30]\n",
        "}\n",
        "\n",
        "search_random_forest1 = RandomizedSearchCV(\n",
        "    random_forest1,\n",
        "    grid_random_forest1,\n",
        "    n_iter=ITER_NUM,\n",
        "    cv=FOLD_NUM,\n",
        "    scoring=\"neg_root_mean_squared_error\",\n",
        "    refit=True,\n",
        "    n_jobs=4,\n",
        "    random_state=SEED\n",
        ")\n",
        "\n",
        "search_random_forest1.fit(x_train1, y_train1)\n",
        "best_params_random_forest1 = search_random_forest1.best_params_\n",
        "\n",
        "print('The best hyperparameter found were:')\n",
        "print(best_params_random_forest1)\n",
        "print()\n",
        "print(f'The best model had a RMSE of: {-search_random_forest1.best_score_:.3f}')"
      ]
    },
    {
      "cell_type": "code",
      "execution_count": 46,
      "id": "308c3beb-7407-45cb-b791-71fb8253faa8",
      "metadata": {
        "colab": {
          "base_uri": "https://localhost:8080/"
        },
        "id": "308c3beb-7407-45cb-b791-71fb8253faa8",
        "outputId": "dcc8c5ef-d186-4ce3-c158-f668b4a7b057"
      },
      "outputs": [
        {
          "output_type": "stream",
          "name": "stdout",
          "text": [
            "The RMSE of the random forest with PCA was: 1.154\n"
          ]
        }
      ],
      "source": [
        "random_forest_otimized_pca1 = make_pipeline(\n",
        "    MaxAbsScaler(),\n",
        "    PCA(COMP_NUM1),\n",
        "    RandomForestRegressor(\n",
        "        max_depth = best_params_random_forest1['max_depth'],\n",
        "        min_samples_leaf = best_params_random_forest1['min_samples_leaf'],\n",
        "        max_leaf_nodes = best_params_random_forest1['max_leaf_nodes'],\n",
        "        random_state=SEED\n",
        "    )\n",
        ")\n",
        "\n",
        "random_forest_otimized_pca1.fit(x_train1, y_train1)\n",
        "y_random_forest_pca1 = random_forest_otimized_pca1.predict(x_test1)\n",
        "rmse_random_forest_pca1 = mean_squared_error(y_random_forest_pca1, y_test1, squared=False)\n",
        "\n",
        "print(f'The RMSE of the random forest with PCA was: {rmse_random_forest_pca1:.3f}')"
      ]
    },
    {
      "cell_type": "markdown",
      "id": "bd58cc63-9a9c-4015-acbc-ad923619317f",
      "metadata": {
        "id": "bd58cc63-9a9c-4015-acbc-ad923619317f"
      },
      "source": [
        "### Random Forest without PCA"
      ]
    },
    {
      "cell_type": "code",
      "execution_count": 47,
      "id": "0a2a82f5-42be-45ff-adbb-f709b209461d",
      "metadata": {
        "colab": {
          "base_uri": "https://localhost:8080/"
        },
        "id": "0a2a82f5-42be-45ff-adbb-f709b209461d",
        "outputId": "2e6747f4-6d1f-4c53-d83c-42bb97db6409"
      },
      "outputs": [
        {
          "output_type": "stream",
          "name": "stdout",
          "text": [
            "The RMSE of the random forest without PCA was: 0.941\n"
          ]
        }
      ],
      "source": [
        "random_forest_otimized1 = make_pipeline(\n",
        "    MaxAbsScaler(),\n",
        "    RandomForestRegressor(\n",
        "        max_depth = best_params_random_forest1['max_depth'],\n",
        "        min_samples_leaf = best_params_random_forest1['min_samples_leaf'],\n",
        "        max_leaf_nodes = best_params_random_forest1['max_leaf_nodes'],\n",
        "        random_state=SEED\n",
        "    )\n",
        ")\n",
        "\n",
        "random_forest_otimized1.fit(x_train1, y_train1)\n",
        "y_random_forest1 = random_forest_otimized1.predict(x_test1)\n",
        "rmse_random_forest1 = mean_squared_error(y_random_forest1, y_test1, squared=False)\n",
        "\n",
        "print(f'The RMSE of the random forest without PCA was: {rmse_random_forest1:.3f}')"
      ]
    },
    {
      "cell_type": "markdown",
      "id": "250ef74e-d1fa-4acc-b7e2-5392a8001fdc",
      "metadata": {
        "tags": [],
        "id": "250ef74e-d1fa-4acc-b7e2-5392a8001fdc"
      },
      "source": [
        "## Case 2"
      ]
    },
    {
      "cell_type": "markdown",
      "id": "8588c0b5-c07f-429a-abf5-003d98c94b7b",
      "metadata": {
        "id": "8588c0b5-c07f-429a-abf5-003d98c94b7b"
      },
      "source": [
        "  In this case we will use the molar proportion of the materials multiplied by the value of electronegativity as features. All variables contain 2 at the end, to differentiate from Case 1.\n",
        "\n",
        "The codes are identical to Case 1, except for the change in features."
      ]
    },
    {
      "cell_type": "markdown",
      "metadata": {
        "id": "2Y_gEI4JwaxJ"
      },
      "source": [
        "### Train-Test Split"
      ],
      "id": "2Y_gEI4JwaxJ"
    },
    {
      "cell_type": "markdown",
      "metadata": {
        "id": "OytpS0zJwaxc"
      },
      "source": [
        "  Performing the train and test split with `TEST_SIZE=0.1`."
      ],
      "id": "OytpS0zJwaxc"
    },
    {
      "cell_type": "code",
      "execution_count": 48,
      "metadata": {
        "id": "4Oj3pzp4waxg"
      },
      "outputs": [],
      "source": [
        "df2 = df.copy()\n",
        "\n",
        "df2 = df2.reindex(FEATURES2 + TARGET, axis=1)\n",
        "df2 = df2.dropna()\n",
        "\n",
        "x2 = df2.reindex(FEATURES2, axis=1)\n",
        "y2 = df2.reindex(TARGET, axis=1)\n",
        "\n",
        "x2 = x2.values\n",
        "y2 = y2.values.ravel()\n",
        "\n",
        "x_train2, x_test2, y_train2, y_test2 = train_test_split(\n",
        "    x2, y2, test_size=TEST_SIZE, random_state=SEED\n",
        ")"
      ],
      "id": "4Oj3pzp4waxg"
    },
    {
      "cell_type": "markdown",
      "metadata": {
        "id": "y7FtlubLwaxj"
      },
      "source": [
        "### Baseline"
      ],
      "id": "y7FtlubLwaxj"
    },
    {
      "cell_type": "code",
      "execution_count": 49,
      "metadata": {
        "colab": {
          "base_uri": "https://localhost:8080/"
        },
        "outputId": "c13102f5-9c6e-4858-f130-ced87ada195f",
        "id": "dLo8FTC2waxm"
      },
      "outputs": [
        {
          "output_type": "stream",
          "name": "stdout",
          "text": [
            "The RMSE of the baseline model was: 1.708\n"
          ]
        }
      ],
      "source": [
        "dummy2 = make_pipeline(\n",
        "    MaxAbsScaler(),\n",
        "    DummyRegressor(),\n",
        ")\n",
        "\n",
        "dummy2.fit(x_train2, y_train2)\n",
        "y_dummy2 = dummy2.predict(x_test2)\n",
        "rmse_dummy2 = mean_squared_error(y_dummy2, y_test2, squared=False)\n",
        "\n",
        "print(f'The RMSE of the baseline model was: {rmse_dummy2:.3f}')"
      ],
      "id": "dLo8FTC2waxm"
    },
    {
      "cell_type": "markdown",
      "metadata": {
        "tags": [],
        "id": "FezrtW6Jwaxp"
      },
      "source": [
        "### PCA"
      ],
      "id": "FezrtW6Jwaxp"
    },
    {
      "cell_type": "code",
      "execution_count": 51,
      "metadata": {
        "colab": {
          "base_uri": "https://localhost:8080/",
          "height": 472
        },
        "outputId": "61113aff-3139-42a8-9f97-aa3bad19f729",
        "id": "3aWuFMp3waxr"
      },
      "outputs": [
        {
          "output_type": "display_data",
          "data": {
            "text/plain": [
              "<Figure size 640x480 with 2 Axes>"
            ],
            "image/png": "[encoded data removed]"
          },
          "metadata": {}
        }
      ],
      "source": [
        "pca2 = PCA()\n",
        "\n",
        "pca2.fit(x2)\n",
        "\n",
        "explained_var2 = pca2.explained_variance_ratio_\n",
        "cv2 = np.cumsum(explained_var2)\n",
        "id_components2 = np.arange(1, pca2.n_components_ + 1)\n",
        "\n",
        "fig2, axis2 = plt.subplots(1, 2)\n",
        "\n",
        "axis2[0].bar(id_components2, explained_var2)\n",
        "axis2[0].set(xlabel=\"component\", title=\"Explained Variance\", ylim=(0.0, 1.0))\n",
        "\n",
        "axis2[1].plot(np.r_[0, id_components2], np.r_[0, cv2], marker=\"o\")\n",
        "axis2[1].set(\n",
        "    xlabel=\"number of components\",\n",
        "    title=\"Acumulated Variance\",\n",
        "    ylim=(0.0, 1.0),\n",
        ")\n",
        "axis2[1].axhline(0.9, linestyle=\"--\", color=\"red\")\n",
        "\n",
        "plt.show()"
      ],
      "id": "3aWuFMp3waxr"
    },
    {
      "cell_type": "code",
      "execution_count": 52,
      "metadata": {
        "tags": [],
        "colab": {
          "base_uri": "https://localhost:8080/"
        },
        "outputId": "9afec8aa-67a2-4080-a85b-0e2c95d5515e",
        "id": "7CKLZOJKwaxu"
      },
      "outputs": [
        {
          "output_type": "stream",
          "name": "stdout",
          "text": [
            "The number of PCs to obtain a variance higher than 0.9 is: 14\n"
          ]
        }
      ],
      "source": [
        "print(f'The number of PCs to obtain a variance higher than 0.9 is: {len(cv2)-sum(cv2>0.9)}')"
      ],
      "id": "7CKLZOJKwaxu"
    },
    {
      "cell_type": "markdown",
      "metadata": {
        "id": "5mGG3r9zwaxw"
      },
      "source": [
        "To obtain an accumulated variance greater than 0.9, we need to use `COMP_NUM2=14`, in this case."
      ],
      "id": "5mGG3r9zwaxw"
    },
    {
      "cell_type": "markdown",
      "metadata": {
        "id": "S9NDdDZKwaxx"
      },
      "source": [
        "### Linear Regresion with PCA"
      ],
      "id": "S9NDdDZKwaxx"
    },
    {
      "cell_type": "code",
      "execution_count": 53,
      "metadata": {
        "colab": {
          "base_uri": "https://localhost:8080/"
        },
        "outputId": "ab84563a-b186-4508-90e2-2962d12e6638",
        "id": "f4zL6R5Jwaxy"
      },
      "outputs": [
        {
          "output_type": "stream",
          "name": "stdout",
          "text": [
            "The RMSE of the linear regression using PCA was: 1.678\n"
          ]
        }
      ],
      "source": [
        "COMP_NUM2 = 14\n",
        "\n",
        "linear_regression_pca2 = make_pipeline(\n",
        "    MaxAbsScaler(),\n",
        "    PCA(COMP_NUM2),\n",
        "    LinearRegression(),\n",
        ")\n",
        "\n",
        "linear_regression_pca2.fit(x_train2, y_train2)\n",
        "y_linear_regression_pca2 = linear_regression_pca2.predict(x_test2)\n",
        "rmse_linear_regression_pca2 = mean_squared_error(y_linear_regression_pca2, y_test2, squared=False)\n",
        "\n",
        "print(f'The RMSE of the linear regression using PCA was: {rmse_linear_regression_pca2:.3f}')"
      ],
      "id": "f4zL6R5Jwaxy"
    },
    {
      "cell_type": "markdown",
      "metadata": {
        "id": "QVbaJLYXwax0"
      },
      "source": [
        "### Linear Regression without PCA"
      ],
      "id": "QVbaJLYXwax0"
    },
    {
      "cell_type": "code",
      "execution_count": 57,
      "metadata": {
        "colab": {
          "base_uri": "https://localhost:8080/"
        },
        "outputId": "5e79290c-6f33-4ba7-8ca5-6b131bf619c0",
        "id": "H7rdd_s5wax1"
      },
      "outputs": [
        {
          "output_type": "stream",
          "name": "stdout",
          "text": [
            "The RMSE of the linear regression without using PCA was: 1.607\n"
          ]
        }
      ],
      "source": [
        "linear_regression2 = make_pipeline(\n",
        "    MaxAbsScaler(),\n",
        "    LinearRegression()\n",
        ")\n",
        "\n",
        "linear_regression2.fit(x_train2, y_train2)\n",
        "y_linear_regression2 = linear_regression2.predict(x_test2)\n",
        "rmse_linear_regression2 = mean_squared_error(y_linear_regression2, y_test2, squared=False)\n",
        "\n",
        "print(f'The RMSE of the linear regression without using PCA was: {rmse_linear_regression2:.3f}')"
      ],
      "id": "H7rdd_s5wax1"
    },
    {
      "cell_type": "markdown",
      "metadata": {
        "id": "Raw-JXMuwax2"
      },
      "source": [
        "### Random Forest with PCA"
      ],
      "id": "Raw-JXMuwax2"
    },
    {
      "cell_type": "markdown",
      "metadata": {
        "id": "qsktc9qDwax2"
      },
      "source": [
        "Tuning hyperparameters:"
      ],
      "id": "qsktc9qDwax2"
    },
    {
      "cell_type": "code",
      "execution_count": 58,
      "metadata": {
        "colab": {
          "base_uri": "https://localhost:8080/"
        },
        "outputId": "22d50233-d1dc-45b2-ab9d-b2a2caf34ec5",
        "id": "UtOPzrMgwax3"
      },
      "outputs": [
        {
          "output_type": "stream",
          "name": "stdout",
          "text": [
            "The best hyperparameter found were:\n",
            "{'min_samples_leaf': 2, 'max_leaf_nodes': None, 'max_depth': None}\n",
            "\n",
            "The best model had a RMSE of: 0.904\n"
          ]
        }
      ],
      "source": [
        "random_forest2 = RandomForestRegressor(random_state=SEED)\n",
        "\n",
        "grid_random_forest2 = {\n",
        "    'max_depth': [None, 3, 4, 5, 6],\n",
        "    'min_samples_leaf': [1, 2, 5, 10],\n",
        "    'max_leaf_nodes': [None, 10, 20, 30]\n",
        "}\n",
        "\n",
        "search_random_forest2 = RandomizedSearchCV(\n",
        "    random_forest2,\n",
        "    grid_random_forest2,\n",
        "    n_iter=ITER_NUM,\n",
        "    cv=FOLD_NUM,\n",
        "    scoring=\"neg_root_mean_squared_error\",\n",
        "    refit=True,\n",
        "    n_jobs=4,\n",
        "    random_state=SEED\n",
        ")\n",
        "\n",
        "search_random_forest2.fit(x_train2, y_train2)\n",
        "best_params_random_forest2 = search_random_forest2.best_params_\n",
        "\n",
        "print('The best hyperparameter found were:')\n",
        "print(best_params_random_forest2)\n",
        "print()\n",
        "print(f'The best model had a RMSE of: {-search_random_forest2.best_score_:.3f}')"
      ],
      "id": "UtOPzrMgwax3"
    },
    {
      "cell_type": "code",
      "execution_count": 59,
      "metadata": {
        "colab": {
          "base_uri": "https://localhost:8080/"
        },
        "outputId": "990e830e-a3b8-48d5-ca10-b3de66bbc1bb",
        "id": "CfszkG01wax6"
      },
      "outputs": [
        {
          "output_type": "stream",
          "name": "stdout",
          "text": [
            "The RMSE of the random forest with PCA was: 1.248\n"
          ]
        }
      ],
      "source": [
        "random_forest_otimized_pca2 = make_pipeline(\n",
        "    MaxAbsScaler(),\n",
        "    PCA(COMP_NUM2),\n",
        "    RandomForestRegressor(\n",
        "        max_depth = best_params_random_forest2['max_depth'],\n",
        "        min_samples_leaf = best_params_random_forest2['min_samples_leaf'],\n",
        "        max_leaf_nodes = best_params_random_forest2['max_leaf_nodes'],\n",
        "        random_state=SEED\n",
        "    )\n",
        ")\n",
        "\n",
        "random_forest_otimized_pca2.fit(x_train2, y_train2)\n",
        "y_random_forest_pca2 = random_forest_otimized_pca2.predict(x_test2)\n",
        "rmse_random_forest_pca2 = mean_squared_error(y_random_forest_pca2, y_test2, squared=False)\n",
        "\n",
        "print(f'The RMSE of the random forest with PCA was: {rmse_random_forest_pca2:.3f}')"
      ],
      "id": "CfszkG01wax6"
    },
    {
      "cell_type": "markdown",
      "metadata": {
        "id": "yCjS1dU4wax6"
      },
      "source": [
        "### Random Forest without PCA"
      ],
      "id": "yCjS1dU4wax6"
    },
    {
      "cell_type": "code",
      "execution_count": 60,
      "metadata": {
        "colab": {
          "base_uri": "https://localhost:8080/"
        },
        "outputId": "d5d7fdaa-1ad9-4d1f-fc5c-59ccfa64fa16",
        "id": "JdFbrPHawax7"
      },
      "outputs": [
        {
          "output_type": "stream",
          "name": "stdout",
          "text": [
            "The RMSE of the random forest without PCA was: 0.941\n"
          ]
        }
      ],
      "source": [
        "random_forest_otimized2 = make_pipeline(\n",
        "    MaxAbsScaler(),\n",
        "    RandomForestRegressor(\n",
        "        max_depth = best_params_random_forest2['max_depth'],\n",
        "        min_samples_leaf = best_params_random_forest2['min_samples_leaf'],\n",
        "        max_leaf_nodes = best_params_random_forest2['max_leaf_nodes'],\n",
        "        random_state=SEED\n",
        "    )\n",
        ")\n",
        "\n",
        "random_forest_otimized2.fit(x_train2, y_train2)\n",
        "y_random_forest2 = random_forest_otimized2.predict(x_test2)\n",
        "rmse_random_forest2 = mean_squared_error(y_random_forest2, y_test2, squared=False)\n",
        "\n",
        "print(f'The RMSE of the random forest without PCA was: {rmse_random_forest2:.3f}')"
      ],
      "id": "JdFbrPHawax7"
    },
    {
      "cell_type": "markdown",
      "id": "f61f2a11-5b29-4375-9f5c-5f0c122abc32",
      "metadata": {
        "id": "f61f2a11-5b29-4375-9f5c-5f0c122abc32"
      },
      "source": [
        "## Results and Discussion"
      ]
    },
    {
      "cell_type": "code",
      "execution_count": 63,
      "id": "cf4ed29f-c57f-40c1-bdde-40f99185dcbe",
      "metadata": {
        "colab": {
          "base_uri": "https://localhost:8080/"
        },
        "id": "cf4ed29f-c57f-40c1-bdde-40f99185dcbe",
        "outputId": "57914613-da15-482c-8707-8c3196e588f9"
      },
      "outputs": [
        {
          "output_type": "stream",
          "name": "stdout",
          "text": [
            "The linear regression model obtained performances in case 1 of: 1.607 without PCA and 1.635 with PCA\n",
            "The linear regression model obtained performances in case 2 of: 1.607 without PCA and 1.678 with PCA\n",
            "\n",
            "The random forest model obtained performances in case 1 of: 0.941 without PCA and 1.154 with PCA\n",
            "The random forest model obtained performances in case 2 of: 0.941 without PCA and 1.248 with PCA\n"
          ]
        }
      ],
      "source": [
        "print(f'The linear regression model obtained performances in case 1 of: {rmse_linear_regression1:.3f} without PCA and {rmse_linear_regression_pca1:.3f} with PCA')\n",
        "print(f'The linear regression model obtained performances in case 2 of: {rmse_linear_regression2:.3f} without PCA and {rmse_linear_regression_pca2:.3f} with PCA')\n",
        "print()\n",
        "print(f'The random forest model obtained performances in case 1 of: {rmse_random_forest1:.3f} without PCA and {rmse_random_forest_pca1:.3f} with PCA')\n",
        "print(f'The random forest model obtained performances in case 2 of: {rmse_random_forest2:.3f} without PCA and {rmse_random_forest_pca2:.3f} with PCA')"
      ]
    },
    {
      "cell_type": "markdown",
      "id": "9e09c89e-afe9-417d-b9b4-82bae7e93ff1",
      "metadata": {
        "id": "9e09c89e-afe9-417d-b9b4-82bae7e93ff1"
      },
      "source": [
        " First, we can observe that both the linear regression and random forest models obtained almost the same performance in cases 1 and 2. This reflects that the electronegativity of the atoms did not bring any new information to the prediction of the band gap values of the materials.\n",
        "\n",
        " Another fact that we can highlight is that all models worsened after the dimensionality reduction made after the PCA. The linear models lost little performance, however, the random forests worsened their performance a lot after the PCA. This may mean that the loss of information during the dimensionality reduction negatively affected the models, perhaps due to the way the dataset was built. However, a curious fact is that in case 1, we need 30 PCs to obtain 90% of total variance of the initial features, while in case 2 we need only 14 PCs, that is, in some way the electronegativity may have helped to group more information after the PCA.\n",
        "\n",
        "   Finally, we can see that the random forest model was the best model, regardless of the case or the use or not of PCA, in relation to the linear models."
      ]
    },
    {
      "cell_type": "markdown",
      "id": "39316796-ab75-4d17-acc6-08262274bdaf",
      "metadata": {
        "id": "39316796-ab75-4d17-acc6-08262274bdaf"
      },
      "source": [
        "## Conclusion"
      ]
    },
    {
      "cell_type": "markdown",
      "id": "ce55fc54-e062-4946-af89-b2884171a76e",
      "metadata": {
        "id": "ce55fc54-e062-4946-af89-b2884171a76e"
      },
      "source": [
        "After the analysis of the results, we conclude that given the models and strategies used, the electronegativity of the atoms did not improve the prediction of the band gap values of the materials. We also conclude that the relationship of the molar proportion (together or not with the electronegativity) of the chemical elements present in a material is better predicted by the random forest model.\n",
        "\n",
        "   For future work we could explore other features that influence the band gap of a material, which would add more information to the random forest models. Another point that could be explored is the difference in accumulated variance after the PCA of the two cases, and explore if in case the electronegativity of the atoms could not be used in another way in these models. We could also train some neural network for this task.\n",
        "\n",
        "Finally, even though our hypothesis were very simple and the results not that great, we learned a lot about a ML project pipeline."
      ]
    },
    {
      "cell_type": "markdown",
      "id": "c23ca8c9-d37b-45dc-8a85-f42ed0a793e3",
      "metadata": {
        "id": "c23ca8c9-d37b-45dc-8a85-f42ed0a793e3"
      },
      "source": [
        "## References"
      ]
    },
    {
      "cell_type": "markdown",
      "id": "0f2bd67d-4b60-43a3-bc5c-b4dd9adc3cf7",
      "metadata": {
        "id": "0f2bd67d-4b60-43a3-bc5c-b4dd9adc3cf7"
      },
      "source": [
        "- https://hackingmaterials.lbl.gov/matminer/ (documentation for `matminer`)\n",
        "-  https://pymatgen.org/ (documentation for `pymatgen`)\n",
        "-    https://pypi.org/project/mendeleev/ (documentation for `mendeleev`)\n",
        "- https://hackingmaterials.lbl.gov/matminer/dataset_summary.html#expt-gap (page of the `expt_gap` dataset)\n",
        "-        https://pt.wikipedia.org/wiki/It%C3%A9rbio (electronegativity of `Yb`)\n",
        "-        https://pt.wikipedia.org/wiki/T%C3%A9rbio (electronegativity of `Tb`)\n",
        "-        https://en.wikipedia.org/wiki/Europium (electronegativity of `Eu`)\n",
        "-        https://pt.wikipedia.org/wiki/Prom%C3%A9cio (electronegativity of `Pm`)\n",
        "\n"
      ]
    }
  ],
  "metadata": {
    "kernelspec": {
      "display_name": "ilumpy",
      "language": "python",
      "name": "ilumpy"
    },
    "language_info": {
      "codemirror_mode": {
        "name": "ipython",
        "version": 3
      },
      "file_extension": ".py",
      "mimetype": "text/x-python",
      "name": "python",
      "nbconvert_exporter": "python",
      "pygments_lexer": "ipython3",
      "version": "3.10.8"
    },
    "colab": {
      "provenance": []
    }
  },
  "nbformat": 4,
  "nbformat_minor": 5
}